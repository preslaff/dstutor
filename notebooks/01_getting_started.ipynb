{
 "cells": [
  {
   "cell_type": "markdown",
   "metadata": {},
   "source": [
    "# DS-Tutor Getting Started\n",
    "\n",
    "Welcome to DS-Tutor! This notebook will guide you through your first learning session.\n",
    "\n",
    "## What is DS-Tutor?\n",
    "\n",
    "DS-Tutor is an AI-powered learning system that teaches you Data Science right here in Jupyter notebooks.\n",
    "\n",
    "**Features:**\n",
    "- 📚 Progressive curriculum from beginner to advanced\n",
    "- 🤖 AI-powered hints and feedback\n",
    "- ✅ Automatic code validation\n",
    "- 📊 Progress tracking\n",
    "- 🎯 Hands-on exercises with real code"
   ]
  },
  {
   "cell_type": "markdown",
   "metadata": {},
   "source": [
    "## Step 1: Load the Extension\n",
    "\n",
    "Run the cell below to load DS-Tutor:"
   ]
  },
  {
   "cell_type": "code",
   "execution_count": 4,
   "metadata": {},
   "outputs": [
    {
     "name": "stdout",
     "output_type": "stream",
     "text": [
      "E:\\DS-tutor\n"
     ]
    }
   ],
   "source": [
    "%cd .."
   ]
  },
  {
   "cell_type": "code",
   "execution_count": 5,
   "metadata": {},
   "outputs": [
    {
     "data": {
      "text/html": [
       "\n",
       "    <div style=\"padding: 20px; background: linear-gradient(135deg, #667eea 0%, #764ba2 100%);\n",
       "                color: white; border-radius: 10px; margin: 10px 0;\">\n",
       "        <h2 style=\"margin: 0 0 10px 0;\">🎓 DS-Tutor Extension Loaded!</h2>\n",
       "        <p style=\"margin: 5px 0;\">AI-Powered Data Science Learning in Jupyter</p>\n",
       "        <p style=\"margin: 10px 0 0 0; font-size: 0.9em;\">\n",
       "            Get started with <code style=\"background: rgba(255,255,255,0.2); padding: 2px 6px;\n",
       "            border-radius: 3px;\">%dstutor init</code>\n",
       "        </p>\n",
       "    </div>\n",
       "    "
      ],
      "text/plain": [
       "<IPython.core.display.HTML object>"
      ]
     },
     "metadata": {},
     "output_type": "display_data"
    }
   ],
   "source": [
    "%load_ext src"
   ]
  },
  {
   "cell_type": "markdown",
   "metadata": {},
   "source": [
    "You should see a colorful welcome message! 🎉"
   ]
  },
  {
   "cell_type": "markdown",
   "metadata": {},
   "source": [
    "## Step 2: Initialize DS-Tutor\n",
    "\n",
    "Initialize your learning environment:"
   ]
  },
  {
   "cell_type": "code",
   "execution_count": 6,
   "metadata": {},
   "outputs": [
    {
     "data": {
      "text/html": [
       "\n",
       "        <div style=\"padding: 30px; background: linear-gradient(135deg, #667eea 0%, #764ba2 100%);\n",
       "                    color: white; border-radius: 15px; margin: 20px 0; box-shadow: 0 4px 6px rgba(0,0,0,0.1);\">\n",
       "            <h1 style=\"margin: 0 0 15px 0; font-size: 2.5em;\">🎓 Welcome to DS-Tutor!</h1>\n",
       "            <p style=\"font-size: 1.2em; margin: 10px 0;\">\n",
       "                AI-Powered Data Science Learning in Jupyter Notebooks\n",
       "            </p>\n",
       "            <hr style=\"border: none; border-top: 2px solid rgba(255,255,255,0.3); margin: 20px 0;\">\n",
       "            <div style=\"font-size: 1.1em;\">\n",
       "                <p><strong>📚 Learn:</strong> NumPy, Pandas, Matplotlib, Scikit-learn, and more</p>\n",
       "                <p><strong>🤖 AI Guidance:</strong> Get intelligent hints and personalized feedback</p>\n",
       "                <p><strong>✨ Interactive:</strong> Code, learn, and get instant validation</p>\n",
       "            </div>\n",
       "            <div style=\"margin-top: 25px; padding: 15px; background: rgba(255,255,255,0.1);\n",
       "                        border-radius: 8px;\">\n",
       "                <p style=\"margin: 0; font-size: 1.1em;\"><strong>Get Started:</strong></p>\n",
       "                <code style=\"background: rgba(0,0,0,0.2); padding: 8px 12px; border-radius: 5px;\n",
       "                           display: inline-block; margin-top: 10px;\">\n",
       "                    %dstutor topics\n",
       "                </code>\n",
       "                <span style=\"margin: 0 10px;\">or</span>\n",
       "                <code style=\"background: rgba(0,0,0,0.2); padding: 8px 12px; border-radius: 5px;\n",
       "                           display: inline-block;\">\n",
       "                    %dstutor start numpy\n",
       "                </code>\n",
       "            </div>\n",
       "        </div>\n",
       "        "
      ],
      "text/plain": [
       "<IPython.core.display.HTML object>"
      ]
     },
     "metadata": {},
     "output_type": "display_data"
    },
    {
     "data": {
      "text/html": [
       "<div style=\"color: #5cb85c; padding: 10px; border-left: 4px solid #5cb85c; margin-top: 10px;\">✅ DS-Tutor initialized successfully!<br>Get started with <code>%dstutor topics</code> or <code>%dstutor start numpy</code></div>"
      ],
      "text/plain": [
       "<IPython.core.display.HTML object>"
      ]
     },
     "metadata": {},
     "output_type": "display_data"
    }
   ],
   "source": [
    "%dstutor init"
   ]
  },
  {
   "cell_type": "markdown",
   "metadata": {},
   "source": [
    "## Step 3: Explore Available Topics\n",
    "\n",
    "Let's see what you can learn:"
   ]
  },
  {
   "cell_type": "code",
   "execution_count": 7,
   "metadata": {},
   "outputs": [
    {
     "data": {
      "text/html": [
       "<div style=\"padding: 15px; background: #f8f9fa; border-radius: 5px;\"><h3 style=\"margin-top: 0;\">📚 Available Topics</h3><h4 style=\"color: #007bff; margin-top: 15px;\">Level 1: Foundations (Beginner)</h4><ul style=\"list-style: none; padding-left: 0;\"><li style=\"margin: 8px 0;\"><strong>📖 Python Fundamentals</strong> - Review Python basics</li><li style=\"margin: 8px 0;\"><strong>📖 NumPy Mastery</strong> - Array manipulation and operations</li><li style=\"margin: 8px 0;\"><strong>📖 Pandas Deep Dive</strong> - Data manipulation with Pandas</li><li style=\"margin: 8px 0;\"><strong>📖 Matplotlib & Seaborn</strong> - Data visualization</li></ul><h4 style=\"color: #007bff; margin-top: 15px;\">Level 2: Classical ML Pipeline (Intermediate)</h4><ul style=\"list-style: none; padding-left: 0;\"><li style=\"margin: 8px 0;\"><strong>🔒 Exploratory Data Analysis</strong> - Understand and explore your data</li><li style=\"margin: 8px 0;\"><strong>🔒 Data Preprocessing</strong> - Clean and prepare data for modeling</li><li style=\"margin: 8px 0;\"><strong>🔒 Scikit-Learn Modeling</strong> - Build machine learning models</li></ul><h4 style=\"color: #007bff; margin-top: 15px;\">Level 3: Advanced Topics (Advanced)</h4><ul style=\"list-style: none; padding-left: 0;\"><li style=\"margin: 8px 0;\"><strong>🔒 Deep Learning with Keras</strong> - Neural networks with Keras</li><li style=\"margin: 8px 0;\"><strong>🔒 PyTorch Fundamentals</strong> - Deep learning with PyTorch</li></ul></div>"
      ],
      "text/plain": [
       "<IPython.core.display.HTML object>"
      ]
     },
     "metadata": {},
     "output_type": "display_data"
    }
   ],
   "source": [
    "%dstutor topics"
   ]
  },
  {
   "cell_type": "markdown",
   "metadata": {},
   "source": [
    "## Step 4: Start Learning NumPy\n",
    "\n",
    "Let's begin with NumPy, the foundation of numerical computing in Python:"
   ]
  },
  {
   "cell_type": "code",
   "execution_count": 9,
   "metadata": {},
   "outputs": [
    {
     "data": {
      "text/markdown": [
       "# NumPy Array Creation\n",
       "\n",
       "Learn how to create NumPy arrays - the foundation of numerical computing in Python."
      ],
      "text/plain": [
       "<IPython.core.display.Markdown object>"
      ]
     },
     "metadata": {},
     "output_type": "display_data"
    },
    {
     "data": {
      "text/markdown": [
       "## What are NumPy Arrays?\n",
       "\n",
       "NumPy arrays are powerful n-dimensional array objects that allow for efficient numerical operations.\n",
       "\n",
       "**Key Benefits:**\n",
       "- Fast vectorized operations\n",
       "- Memory efficient\n",
       "- Mathematical operations are intuitive\n",
       "- Foundation for pandas, scikit-learn, and more"
      ],
      "text/plain": [
       "<IPython.core.display.Markdown object>"
      ]
     },
     "metadata": {},
     "output_type": "display_data"
    },
    {
     "data": {
      "text/markdown": [
       "### 💡 Example: Creating Arrays from Lists"
      ],
      "text/plain": [
       "<IPython.core.display.Markdown object>"
      ]
     },
     "metadata": {},
     "output_type": "display_data"
    },
    {
     "data": {
      "text/markdown": [
       "```python\n",
       "import numpy as np\n",
       "\n",
       "# 1D array\n",
       "arr1d = np.array([1, 2, 3, 4, 5])\n",
       "print(arr1d)\n",
       "print(f\"Shape: {arr1d.shape}, Dtype: {arr1d.dtype}\")\n",
       "\n",
       "# 2D array\n",
       "arr2d = np.array([[1, 2, 3], [4, 5, 6]])\n",
       "print(arr2d)\n",
       "print(f\"Shape: {arr2d.shape}\")\n",
       "```"
      ],
      "text/plain": [
       "<IPython.core.display.Markdown object>"
      ]
     },
     "metadata": {},
     "output_type": "display_data"
    },
    {
     "data": {
      "text/markdown": [
       "**Expected Output:**\n",
       "```\n",
       "[1 2 3 4 5]\n",
       "Shape: (5,), Dtype: int64\n",
       "[[1 2 3]\n",
       " [4 5 6]]\n",
       "Shape: (2, 3)\n",
       "```"
      ],
      "text/plain": [
       "<IPython.core.display.Markdown object>"
      ]
     },
     "metadata": {},
     "output_type": "display_data"
    },
    {
     "data": {
      "text/markdown": [
       "\n",
       "---\n",
       "\n",
       "## ✏️ Exercise\n",
       "\n",
       "Create a 1D NumPy array containing the numbers 10, 20, 30, 40, 50 and store it in a variable called `result`.\n",
       "\n",
       "**Setup Code** (Run this first):\n"
      ],
      "text/plain": [
       "<IPython.core.display.Markdown object>"
      ]
     },
     "metadata": {},
     "output_type": "display_data"
    },
    {
     "data": {
      "text/markdown": [
       "```python\n",
       "import numpy as np\n",
       "```"
      ],
      "text/plain": [
       "<IPython.core.display.Markdown object>"
      ]
     },
     "metadata": {},
     "output_type": "display_data"
    },
    {
     "data": {
      "text/markdown": [
       "\n",
       "**Your Solution:**\n",
       "\n",
       "```python\\n# Your code here\n",
       "result = \\n```\n",
       "\n",
       "---\n",
       "💡 **Tip:** Use `%dstutor hint` if you need help!\n"
      ],
      "text/plain": [
       "<IPython.core.display.Markdown object>"
      ]
     },
     "metadata": {},
     "output_type": "display_data"
    },
    {
     "data": {
      "text/html": [
       "\n",
       "        <div style=\"padding: 20px; background: linear-gradient(135deg, #667eea 0%, #764ba2 100%);\n",
       "                    color: white; border-radius: 10px; margin: 15px 0; box-shadow: 0 3px 5px rgba(0,0,0,0.1);\">\n",
       "            <h3 style=\"margin: 0 0 8px 0;\">📚 Numpy - Array Creation</h3>\n",
       "            <p style=\"margin: 5px 0; opacity: 0.9;\">\n",
       "                Lesson 1 of 2 •\n",
       "                Level: Beginner •\n",
       "                Duration: 10 min\n",
       "            </p>\n",
       "            <div style=\"background: rgba(255,255,255,0.2); height: 8px; border-radius: 4px; margin-top: 12px; overflow: hidden;\">\n",
       "                <div style=\"background: white; height: 100%; width: 50.0%; border-radius: 4px; transition: width 0.3s;\"></div>\n",
       "            </div>\n",
       "        </div>\n",
       "        "
      ],
      "text/plain": [
       "<IPython.core.display.HTML object>"
      ]
     },
     "metadata": {},
     "output_type": "display_data"
    },
    {
     "data": {
      "application/vnd.jupyter.widget-view+json": {
       "model_id": "6905252d9a424cbebf0ce3bfdb70ff73",
       "version_major": 2,
       "version_minor": 0
      },
      "text/plain": [
       "HBox(children=(Button(button_style='info', description='◄ Previous', layout=Layout(width='auto'), style=Button…"
      ]
     },
     "metadata": {},
     "output_type": "display_data"
    },
    {
     "data": {
      "application/vnd.jupyter.widget-view+json": {
       "model_id": "2a92cba7b5c74b048d60be8873579289",
       "version_major": 2,
       "version_minor": 0
      },
      "text/plain": [
       "Output()"
      ]
     },
     "metadata": {},
     "output_type": "display_data"
    }
   ],
   "source": [
    "%dstutor start numpy"
   ]
  },
  {
   "cell_type": "markdown",
   "metadata": {},
   "source": [
    "The lesson content will appear above! 📚\n",
    "\n",
    "Read through the explanation and examples, then try the exercise below."
   ]
  },
  {
   "cell_type": "markdown",
   "metadata": {},
   "source": [
    "## Step 5: Try the Exercise\n",
    "\n",
    "Now it's your turn! Write code to solve the exercise.\n",
    "\n",
    "**Exercise:** Create a NumPy array with values [10, 20, 30, 40, 50]"
   ]
  },
  {
   "cell_type": "code",
   "execution_count": 11,
   "metadata": {},
   "outputs": [],
   "source": [
    "# Your code here\n",
    "import numpy as np\n",
    "\n",
    "result = np.array([10, 20, 30, 40, 50])"
   ]
  },
  {
   "cell_type": "markdown",
   "metadata": {},
   "source": [
    "When you run the cell above, DS-Tutor will automatically validate your solution and give you feedback!"
   ]
  },
  {
   "cell_type": "markdown",
   "metadata": {},
   "source": [
    "## Getting Help\n",
    "\n",
    "### Need a hint?\n",
    "\n",
    "If you're stuck, get a hint:"
   ]
  },
  {
   "cell_type": "code",
   "execution_count": 12,
   "metadata": {},
   "outputs": [
    {
     "data": {
      "text/html": [
       "\n",
       "        <div style=\"padding: 20px; background: #fff3cd; border: 2px solid #ffc107; border-radius: 8px; margin: 15px 0;\">\n",
       "            <h3 style=\"color: #856404; margin: 0 0 10px 0;\">💡 Hint (Level 1/3) ⭐</h3>\n",
       "            <p style=\"color: #856404; margin: 0; line-height: 1.6;\">Use the np.array() function with a list of numbers.</p>\n",
       "            <p style=\"color: #856404; margin: 15px 0 0 0; font-size: 0.9em;\">\n",
       "                2 more hints available - use <code>%dstutor hint 2</code>\n",
       "            </p>\n",
       "        </div>\n",
       "        "
      ],
      "text/plain": [
       "<IPython.core.display.HTML object>"
      ]
     },
     "metadata": {},
     "output_type": "display_data"
    }
   ],
   "source": [
    "%dstutor hint"
   ]
  },
  {
   "cell_type": "markdown",
   "metadata": {},
   "source": [
    "### Need more help?"
   ]
  },
  {
   "cell_type": "code",
   "execution_count": 13,
   "metadata": {},
   "outputs": [
    {
     "data": {
      "text/html": [
       "\n",
       "        <div style=\"padding: 20px; background: #fff3cd; border: 2px solid #ffc107; border-radius: 8px; margin: 15px 0;\">\n",
       "            <h3 style=\"color: #856404; margin: 0 0 10px 0;\">💡 Hint (Level 2/3) ⭐⭐</h3>\n",
       "            <p style=\"color: #856404; margin: 0; line-height: 1.6;\">The syntax is: np.array([10, 20, 30, 40, 50])</p>\n",
       "            <p style=\"color: #856404; margin: 15px 0 0 0; font-size: 0.9em;\">\n",
       "                1 more hint available - use <code>%dstutor hint 3</code>\n",
       "            </p>\n",
       "        </div>\n",
       "        "
      ],
      "text/plain": [
       "<IPython.core.display.HTML object>"
      ]
     },
     "metadata": {},
     "output_type": "display_data"
    }
   ],
   "source": [
    "%dstutor hint 2  # More specific hint"
   ]
  },
  {
   "cell_type": "markdown",
   "metadata": {},
   "source": [
    "### Want to see the solution?"
   ]
  },
  {
   "cell_type": "code",
   "execution_count": 14,
   "metadata": {},
   "outputs": [
    {
     "data": {
      "text/html": [
       "\n",
       "        <div style=\"padding: 20px; background: #d1ecf1; border: 2px solid #17a2b8; border-radius: 8px; margin: 15px 0;\">\n",
       "            <h3 style=\"color: #0c5460; margin: 0 0 15px 0;\">📝 Solution</h3>\n",
       "            <pre style=\"background: #fff; padding: 15px; border-radius: 5px; overflow-x: auto; color: #0c5460;\"><code>result = np.array([10, 20, 30, 40, 50])</code></pre>\n",
       "            <p style=\"color: #0c5460; margin: 15px 0 0 0; font-style: italic;\">\n",
       "                Study the solution and try to understand the approach.\n",
       "                You can continue to the next lesson when ready!\n",
       "            </p>\n",
       "        </div>\n",
       "        "
      ],
      "text/plain": [
       "<IPython.core.display.HTML object>"
      ]
     },
     "metadata": {},
     "output_type": "display_data"
    }
   ],
   "source": [
    "%dstutor solution"
   ]
  },
  {
   "cell_type": "markdown",
   "metadata": {},
   "source": [
    "## Navigation\n",
    "\n",
    "### Move to the next lesson:"
   ]
  },
  {
   "cell_type": "code",
   "execution_count": 15,
   "metadata": {},
   "outputs": [
    {
     "data": {
      "text/markdown": [
       "# NumPy Array Creation Functions\n",
       "\n",
       "Learn efficient ways to create arrays using NumPy functions."
      ],
      "text/plain": [
       "<IPython.core.display.Markdown object>"
      ]
     },
     "metadata": {},
     "output_type": "display_data"
    },
    {
     "data": {
      "text/markdown": [
       "## Array Creation Functions\n",
       "\n",
       "NumPy provides many functions for creating arrays:\n",
       "\n",
       "- `np.zeros()` - Array filled with zeros\n",
       "- `np.ones()` - Array filled with ones\n",
       "- `np.arange()` - Array with evenly spaced values\n",
       "- `np.linspace()` - Array with specified number of values\n",
       "- `np.eye()` - Identity matrix"
      ],
      "text/plain": [
       "<IPython.core.display.Markdown object>"
      ]
     },
     "metadata": {},
     "output_type": "display_data"
    },
    {
     "data": {
      "text/markdown": [
       "### 💡 Example: Using Creation Functions"
      ],
      "text/plain": [
       "<IPython.core.display.Markdown object>"
      ]
     },
     "metadata": {},
     "output_type": "display_data"
    },
    {
     "data": {
      "text/markdown": [
       "```python\n",
       "import numpy as np\n",
       "\n",
       "# Array of zeros\n",
       "zeros = np.zeros((3, 4))\n",
       "print(\"Zeros:\")\n",
       "print(zeros)\n",
       "\n",
       "# Array of ones\n",
       "ones = np.ones((2, 3))\n",
       "print(\"\\nOnes:\")\n",
       "print(ones)\n",
       "\n",
       "# Range of values\n",
       "range_arr = np.arange(0, 10, 2)\n",
       "print(\"\\nRange:\", range_arr)\n",
       "```"
      ],
      "text/plain": [
       "<IPython.core.display.Markdown object>"
      ]
     },
     "metadata": {},
     "output_type": "display_data"
    },
    {
     "data": {
      "text/markdown": [
       "**Expected Output:**\n",
       "```\n",
       "Arrays with specified values\n",
       "```"
      ],
      "text/plain": [
       "<IPython.core.display.Markdown object>"
      ]
     },
     "metadata": {},
     "output_type": "display_data"
    },
    {
     "data": {
      "text/markdown": [
       "\n",
       "---\n",
       "\n",
       "## ✏️ Exercise\n",
       "\n",
       "Create a 2D array filled with zeros, with shape (3, 5). Store it in a variable called `result`.\n",
       "\n",
       "**Setup Code** (Run this first):\n"
      ],
      "text/plain": [
       "<IPython.core.display.Markdown object>"
      ]
     },
     "metadata": {},
     "output_type": "display_data"
    },
    {
     "data": {
      "text/markdown": [
       "```python\n",
       "import numpy as np\n",
       "```"
      ],
      "text/plain": [
       "<IPython.core.display.Markdown object>"
      ]
     },
     "metadata": {},
     "output_type": "display_data"
    },
    {
     "data": {
      "text/markdown": [
       "\n",
       "**Your Solution:**\n",
       "\n",
       "```python\\n# Your code here\n",
       "result = \\n```\n",
       "\n",
       "---\n",
       "💡 **Tip:** Use `%dstutor hint` if you need help!\n"
      ],
      "text/plain": [
       "<IPython.core.display.Markdown object>"
      ]
     },
     "metadata": {},
     "output_type": "display_data"
    },
    {
     "data": {
      "text/html": [
       "\n",
       "        <div style=\"padding: 20px; background: linear-gradient(135deg, #667eea 0%, #764ba2 100%);\n",
       "                    color: white; border-radius: 10px; margin: 15px 0; box-shadow: 0 3px 5px rgba(0,0,0,0.1);\">\n",
       "            <h3 style=\"margin: 0 0 8px 0;\">📚 Numpy - Array Functions</h3>\n",
       "            <p style=\"margin: 5px 0; opacity: 0.9;\">\n",
       "                Lesson 2 of 2 •\n",
       "                Level: Beginner •\n",
       "                Duration: 15 min\n",
       "            </p>\n",
       "            <div style=\"background: rgba(255,255,255,0.2); height: 8px; border-radius: 4px; margin-top: 12px; overflow: hidden;\">\n",
       "                <div style=\"background: white; height: 100%; width: 100.0%; border-radius: 4px; transition: width 0.3s;\"></div>\n",
       "            </div>\n",
       "        </div>\n",
       "        "
      ],
      "text/plain": [
       "<IPython.core.display.HTML object>"
      ]
     },
     "metadata": {},
     "output_type": "display_data"
    },
    {
     "data": {
      "application/vnd.jupyter.widget-view+json": {
       "model_id": "3a7afc81f7eb4279b38498686514da0e",
       "version_major": 2,
       "version_minor": 0
      },
      "text/plain": [
       "HBox(children=(Button(button_style='info', description='◄ Previous', layout=Layout(width='auto'), style=Button…"
      ]
     },
     "metadata": {},
     "output_type": "display_data"
    },
    {
     "data": {
      "application/vnd.jupyter.widget-view+json": {
       "model_id": "5f674228e30646b2a1ab8b5bc1692f5a",
       "version_major": 2,
       "version_minor": 0
      },
      "text/plain": [
       "Output()"
      ]
     },
     "metadata": {},
     "output_type": "display_data"
    }
   ],
   "source": [
    "%dstutor next"
   ]
  },
  {
   "cell_type": "markdown",
   "metadata": {},
   "source": [
    "### Go back to the previous lesson:"
   ]
  },
  {
   "cell_type": "code",
   "execution_count": 17,
   "metadata": {},
   "outputs": [
    {
     "data": {
      "text/html": [
       "<div style=\"color: #f0ad4e;\">⚠️ This is the first lesson</div>"
      ],
      "text/plain": [
       "<IPython.core.display.HTML object>"
      ]
     },
     "metadata": {},
     "output_type": "display_data"
    }
   ],
   "source": [
    "%dstutor previous"
   ]
  },
  {
   "cell_type": "markdown",
   "metadata": {},
   "source": [
    "## Track Your Progress\n",
    "\n",
    "View your learning progress:"
   ]
  },
  {
   "cell_type": "code",
   "execution_count": 18,
   "metadata": {},
   "outputs": [
    {
     "data": {
      "text/html": [
       "\n",
       "        <div style=\"padding: 25px; background: #f8f9fa; border-radius: 10px; margin: 20px 0;\n",
       "                    box-shadow: 0 2px 4px rgba(0,0,0,0.1);\">\n",
       "            <h2 style=\"margin: 0 0 20px 0; color: #333;\">🎯 Your Progress</h2>\n",
       "\n",
       "            <div style=\"background: white; padding: 20px; border-radius: 8px; margin-bottom: 20px;\">\n",
       "                <h3 style=\"margin: 0 0 15px 0; color: #666;\">📊 Overall Stats</h3>\n",
       "                <div style=\"display: grid; grid-template-columns: repeat(auto-fit, minmax(200px, 1fr)); gap: 15px;\">\n",
       "                    <div style=\"padding: 15px; background: #e3f2fd; border-radius: 5px;\">\n",
       "                        <div style=\"font-size: 2em; font-weight: bold; color: #1976d2;\">2</div>\n",
       "                        <div style=\"color: #666;\">Lessons Completed</div>\n",
       "                    </div>\n",
       "                    <div style=\"padding: 15px; background: #e8f5e9; border-radius: 5px;\">\n",
       "                        <div style=\"font-size: 2em; font-weight: bold; color: #388e3c;\">0</div>\n",
       "                        <div style=\"color: #666;\">Exercises Solved</div>\n",
       "                    </div>\n",
       "                    <div style=\"padding: 15px; background: #fff3e0; border-radius: 5px;\">\n",
       "                        <div style=\"font-size: 2em; font-weight: bold; color: #f57c00;\">0%</div>\n",
       "                        <div style=\"color: #666;\">Accuracy</div>\n",
       "                    </div>\n",
       "                </div>\n",
       "            </div>\n",
       "\n",
       "            <div style=\"background: white; padding: 20px; border-radius: 8px;\">\n",
       "                <h3 style=\"margin: 0 0 15px 0; color: #666;\">📚 Topic Progress</h3>\n",
       "                \n",
       "            <div style=\"margin-bottom: 15px;\">\n",
       "                <div style=\"display: flex; justify-content: space-between; margin-bottom: 5px;\">\n",
       "                    <span style=\"font-weight: 500;\">✅ Python Fundamentals</span>\n",
       "                    <span style=\"color: #28a745; font-weight: bold;\">100%</span>\n",
       "                </div>\n",
       "                <div style=\"background: #e9ecef; height: 10px; border-radius: 5px; overflow: hidden;\">\n",
       "                    <div style=\"background: #28a745; height: 100%; width: 100%;\n",
       "                               border-radius: 5px; transition: width 0.3s;\"></div>\n",
       "                </div>\n",
       "            </div>\n",
       "            \n",
       "            <div style=\"margin-bottom: 15px;\">\n",
       "                <div style=\"display: flex; justify-content: space-between; margin-bottom: 5px;\">\n",
       "                    <span style=\"font-weight: 500;\">✅ NumPy Mastery</span>\n",
       "                    <span style=\"color: #28a745; font-weight: bold;\">100%</span>\n",
       "                </div>\n",
       "                <div style=\"background: #e9ecef; height: 10px; border-radius: 5px; overflow: hidden;\">\n",
       "                    <div style=\"background: #28a745; height: 100%; width: 100%;\n",
       "                               border-radius: 5px; transition: width 0.3s;\"></div>\n",
       "                </div>\n",
       "            </div>\n",
       "            \n",
       "            <div style=\"margin-bottom: 15px;\">\n",
       "                <div style=\"display: flex; justify-content: space-between; margin-bottom: 5px;\">\n",
       "                    <span style=\"font-weight: 500;\">🔄 Pandas Deep Dive</span>\n",
       "                    <span style=\"color: #007bff; font-weight: bold;\">65%</span>\n",
       "                </div>\n",
       "                <div style=\"background: #e9ecef; height: 10px; border-radius: 5px; overflow: hidden;\">\n",
       "                    <div style=\"background: #007bff; height: 100%; width: 65%;\n",
       "                               border-radius: 5px; transition: width 0.3s;\"></div>\n",
       "                </div>\n",
       "            </div>\n",
       "            \n",
       "            <div style=\"margin-bottom: 15px;\">\n",
       "                <div style=\"display: flex; justify-content: space-between; margin-bottom: 5px;\">\n",
       "                    <span style=\"font-weight: 500;\">🔒 Matplotlib & Seaborn</span>\n",
       "                    <span style=\"color: #6c757d; font-weight: bold;\">0%</span>\n",
       "                </div>\n",
       "                <div style=\"background: #e9ecef; height: 10px; border-radius: 5px; overflow: hidden;\">\n",
       "                    <div style=\"background: #6c757d; height: 100%; width: 0%;\n",
       "                               border-radius: 5px; transition: width 0.3s;\"></div>\n",
       "                </div>\n",
       "            </div>\n",
       "            \n",
       "            </div>\n",
       "        </div>\n",
       "        "
      ],
      "text/plain": [
       "<IPython.core.display.HTML object>"
      ]
     },
     "metadata": {},
     "output_type": "display_data"
    }
   ],
   "source": [
    "%dstutor progress"
   ]
  },
  {
   "cell_type": "markdown",
   "metadata": {},
   "source": [
    "## All Available Commands\n",
    "\n",
    "Get a complete list of commands:"
   ]
  },
  {
   "cell_type": "code",
   "execution_count": 19,
   "metadata": {},
   "outputs": [
    {
     "data": {
      "text/html": [
       "\n",
       "        <div style=\"padding: 15px; background: #f8f9fa; border-radius: 5px; font-family: monospace;\">\n",
       "            <h3 style=\"margin-top: 0;\">🎓 DS-Tutor Commands</h3>\n",
       "            <table style=\"width: 100%;\">\n",
       "                <tr><td><code>%dstutor init</code></td><td>Initialize the tutor</td></tr>\n",
       "                <tr><td><code>%dstutor start &lt;topic&gt;</code></td><td>Start learning a topic</td></tr>\n",
       "                <tr><td><code>%dstutor next</code></td><td>Go to next lesson</td></tr>\n",
       "                <tr><td><code>%dstutor previous</code></td><td>Go to previous lesson</td></tr>\n",
       "                <tr><td><code>%dstutor hint [level]</code></td><td>Get a hint (levels 1-3)</td></tr>\n",
       "                <tr><td><code>%dstutor solution</code></td><td>Show solution</td></tr>\n",
       "                <tr><td><code>%dstutor progress</code></td><td>Show progress dashboard</td></tr>\n",
       "                <tr><td><code>%dstutor topics</code></td><td>List available topics</td></tr>\n",
       "                <tr><td><code>%dstutor reset</code></td><td>Reset current lesson</td></tr>\n",
       "                <tr><td><code>%dstutor goto &lt;id&gt;</code></td><td>Jump to specific lesson</td></tr>\n",
       "                <tr><td><code>%dstutor config</code></td><td>Show configuration</td></tr>\n",
       "                <tr><td><code>%dstutor help</code></td><td>Show this help message</td></tr>\n",
       "            </table>\n",
       "        </div>\n",
       "        "
      ],
      "text/plain": [
       "<IPython.core.display.HTML object>"
      ]
     },
     "metadata": {},
     "output_type": "display_data"
    }
   ],
   "source": [
    "%dstutor help"
   ]
  },
  {
   "cell_type": "markdown",
   "metadata": {},
   "source": [
    "## Tips for Success\n",
    "\n",
    "1. **Try it yourself first** - Don't jump to hints immediately\n",
    "2. **Experiment** - Modify examples to see what happens\n",
    "3. **Practice daily** - Even 15-20 minutes helps\n",
    "4. **Take notes** - Add your own markdown cells\n",
    "5. **Review regularly** - Go back to reinforce concepts\n",
    "\n",
    "---\n",
    "\n",
    "## Ready to Learn?\n",
    "\n",
    "You now know the basics! Here's your learning path:\n",
    "\n",
    "### Level 1: Foundations\n",
    "- ✅ **NumPy Mastery** - Array manipulation (Start here!)\n",
    "- **Pandas Deep Dive** - Data manipulation\n",
    "- **Matplotlib & Seaborn** - Data visualization\n",
    "\n",
    "### Level 2: ML Pipeline\n",
    "- **EDA** - Exploratory Data Analysis\n",
    "- **Preprocessing** - Data cleaning\n",
    "- **Scikit-Learn** - Machine learning models\n",
    "\n",
    "### Level 3: Advanced\n",
    "- **Deep Learning** - Keras & PyTorch\n",
    "- **Model Interpretation** - SHAP, LIME\n",
    "- **Specialized Topics** - Time series, NLP, CV\n",
    "\n",
    "---\n",
    "\n",
    "## Let's Begin!\n",
    "\n",
    "Start your Data Science journey right now:"
   ]
  },
  {
   "cell_type": "code",
   "execution_count": 20,
   "metadata": {},
   "outputs": [
    {
     "data": {
      "text/markdown": [
       "# NumPy Array Creation\n",
       "\n",
       "Learn how to create NumPy arrays - the foundation of numerical computing in Python."
      ],
      "text/plain": [
       "<IPython.core.display.Markdown object>"
      ]
     },
     "metadata": {},
     "output_type": "display_data"
    },
    {
     "data": {
      "text/markdown": [
       "## What are NumPy Arrays?\n",
       "\n",
       "NumPy arrays are powerful n-dimensional array objects that allow for efficient numerical operations.\n",
       "\n",
       "**Key Benefits:**\n",
       "- Fast vectorized operations\n",
       "- Memory efficient\n",
       "- Mathematical operations are intuitive\n",
       "- Foundation for pandas, scikit-learn, and more"
      ],
      "text/plain": [
       "<IPython.core.display.Markdown object>"
      ]
     },
     "metadata": {},
     "output_type": "display_data"
    },
    {
     "data": {
      "text/markdown": [
       "### 💡 Example: Creating Arrays from Lists"
      ],
      "text/plain": [
       "<IPython.core.display.Markdown object>"
      ]
     },
     "metadata": {},
     "output_type": "display_data"
    },
    {
     "data": {
      "text/markdown": [
       "```python\n",
       "import numpy as np\n",
       "\n",
       "# 1D array\n",
       "arr1d = np.array([1, 2, 3, 4, 5])\n",
       "print(arr1d)\n",
       "print(f\"Shape: {arr1d.shape}, Dtype: {arr1d.dtype}\")\n",
       "\n",
       "# 2D array\n",
       "arr2d = np.array([[1, 2, 3], [4, 5, 6]])\n",
       "print(arr2d)\n",
       "print(f\"Shape: {arr2d.shape}\")\n",
       "```"
      ],
      "text/plain": [
       "<IPython.core.display.Markdown object>"
      ]
     },
     "metadata": {},
     "output_type": "display_data"
    },
    {
     "data": {
      "text/markdown": [
       "**Expected Output:**\n",
       "```\n",
       "[1 2 3 4 5]\n",
       "Shape: (5,), Dtype: int64\n",
       "[[1 2 3]\n",
       " [4 5 6]]\n",
       "Shape: (2, 3)\n",
       "```"
      ],
      "text/plain": [
       "<IPython.core.display.Markdown object>"
      ]
     },
     "metadata": {},
     "output_type": "display_data"
    },
    {
     "data": {
      "text/markdown": [
       "\n",
       "---\n",
       "\n",
       "## ✏️ Exercise\n",
       "\n",
       "Create a 1D NumPy array containing the numbers 10, 20, 30, 40, 50 and store it in a variable called `result`.\n",
       "\n",
       "**Setup Code** (Run this first):\n"
      ],
      "text/plain": [
       "<IPython.core.display.Markdown object>"
      ]
     },
     "metadata": {},
     "output_type": "display_data"
    },
    {
     "data": {
      "text/markdown": [
       "```python\n",
       "import numpy as np\n",
       "```"
      ],
      "text/plain": [
       "<IPython.core.display.Markdown object>"
      ]
     },
     "metadata": {},
     "output_type": "display_data"
    },
    {
     "data": {
      "text/markdown": [
       "\n",
       "**Your Solution:**\n",
       "\n",
       "```python\\n# Your code here\n",
       "result = \\n```\n",
       "\n",
       "---\n",
       "💡 **Tip:** Use `%dstutor hint` if you need help!\n"
      ],
      "text/plain": [
       "<IPython.core.display.Markdown object>"
      ]
     },
     "metadata": {},
     "output_type": "display_data"
    },
    {
     "data": {
      "text/html": [
       "\n",
       "        <div style=\"padding: 20px; background: linear-gradient(135deg, #667eea 0%, #764ba2 100%);\n",
       "                    color: white; border-radius: 10px; margin: 15px 0; box-shadow: 0 3px 5px rgba(0,0,0,0.1);\">\n",
       "            <h3 style=\"margin: 0 0 8px 0;\">📚 Numpy - Array Creation</h3>\n",
       "            <p style=\"margin: 5px 0; opacity: 0.9;\">\n",
       "                Lesson 1 of 2 •\n",
       "                Level: Beginner •\n",
       "                Duration: 10 min\n",
       "            </p>\n",
       "            <div style=\"background: rgba(255,255,255,0.2); height: 8px; border-radius: 4px; margin-top: 12px; overflow: hidden;\">\n",
       "                <div style=\"background: white; height: 100%; width: 50.0%; border-radius: 4px; transition: width 0.3s;\"></div>\n",
       "            </div>\n",
       "        </div>\n",
       "        "
      ],
      "text/plain": [
       "<IPython.core.display.HTML object>"
      ]
     },
     "metadata": {},
     "output_type": "display_data"
    },
    {
     "data": {
      "application/vnd.jupyter.widget-view+json": {
       "model_id": "34e5f6729a04453083471b01d2c3c26a",
       "version_major": 2,
       "version_minor": 0
      },
      "text/plain": [
       "HBox(children=(Button(button_style='info', description='◄ Previous', layout=Layout(width='auto'), style=Button…"
      ]
     },
     "metadata": {},
     "output_type": "display_data"
    },
    {
     "data": {
      "application/vnd.jupyter.widget-view+json": {
       "model_id": "1aa5bbfa0c3b4888a29846b8e75048d1",
       "version_major": 2,
       "version_minor": 0
      },
      "text/plain": [
       "Output()"
      ]
     },
     "metadata": {},
     "output_type": "display_data"
    }
   ],
   "source": [
    "# Start learning!\n",
    "%dstutor start numpy"
   ]
  },
  {
   "cell_type": "markdown",
   "metadata": {},
   "source": [
    "---\n",
    "\n",
    "**Happy Learning! 🎓📊🤖**\n",
    "\n",
    "Remember: The journey of a thousand miles begins with a single step. Your Data Science journey starts here!"
   ]
  },
  {
   "cell_type": "code",
   "execution_count": null,
   "metadata": {},
   "outputs": [],
   "source": []
  }
 ],
 "metadata": {
  "kernelspec": {
   "display_name": "Python 3 (ipykernel)",
   "language": "python",
   "name": "python3"
  },
  "language_info": {
   "codemirror_mode": {
    "name": "ipython",
    "version": 3
   },
   "file_extension": ".py",
   "mimetype": "text/x-python",
   "name": "python",
   "nbconvert_exporter": "python",
   "pygments_lexer": "ipython3",
   "version": "3.13.5"
  }
 },
 "nbformat": 4,
 "nbformat_minor": 4
}
