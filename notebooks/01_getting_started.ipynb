{
 "cells": [
  {
   "cell_type": "markdown",
   "metadata": {},
   "source": [
    "# DS-Tutor Getting Started\n",
    "\n",
    "Welcome to DS-Tutor! This notebook will guide you through your first learning session.\n",
    "\n",
    "## What is DS-Tutor?\n",
    "\n",
    "DS-Tutor is an AI-powered learning system that teaches you Data Science right here in Jupyter notebooks.\n",
    "\n",
    "**Features:**\n",
    "- 📚 Progressive curriculum from beginner to advanced\n",
    "- 🤖 AI-powered hints and feedback\n",
    "- ✅ Automatic code validation\n",
    "- 📊 Progress tracking\n",
    "- 🎯 Hands-on exercises with real code"
   ]
  },
  {
   "cell_type": "markdown",
   "metadata": {},
   "source": [
    "## Step 1: Load the Extension\n",
    "\n",
    "Run the cell below to load DS-Tutor:"
   ]
  },
  {
   "cell_type": "code",
   "execution_count": 2,
   "metadata": {},
   "outputs": [
    {
     "name": "stdout",
     "output_type": "stream",
     "text": [
      "/home/preslaff/dstutor\n"
     ]
    }
   ],
   "source": [
    "%cd .."
   ]
  },
  {
   "cell_type": "code",
   "execution_count": 7,
   "metadata": {},
   "outputs": [
    {
     "data": {
      "text/html": [
       "\n",
       "    <div style=\"padding: 20px; background: linear-gradient(135deg, #667eea 0%, #764ba2 100%);\n",
       "                color: white; border-radius: 10px; margin: 10px 0;\">\n",
       "        <h2 style=\"margin: 0 0 10px 0;\">🎓 DS-Tutor Extension Loaded!</h2>\n",
       "        <p style=\"margin: 5px 0;\">AI-Powered Data Science Learning in Jupyter</p>\n",
       "        <p style=\"margin: 10px 0 0 0; font-size: 0.9em;\">\n",
       "            Get started with <code style=\"background: rgba(255,255,255,0.2); padding: 2px 6px;\n",
       "            border-radius: 3px;\">%dstutor init</code>\n",
       "        </p>\n",
       "    </div>\n",
       "    "
      ],
      "text/plain": [
       "<IPython.core.display.HTML object>"
      ]
     },
     "metadata": {},
     "output_type": "display_data"
    }
   ],
   "source": [
    "%reload_ext dstutor"
   ]
  },
  {
   "cell_type": "markdown",
   "metadata": {},
   "source": [
    "You should see a colorful welcome message! 🎉"
   ]
  },
  {
   "cell_type": "markdown",
   "metadata": {},
   "source": [
    "## Step 2: Initialize DS-Tutor\n",
    "\n",
    "Initialize your learning environment:"
   ]
  },
  {
   "cell_type": "code",
   "execution_count": 8,
   "metadata": {},
   "outputs": [
    {
     "data": {
      "text/html": [
       "\n",
       "            <div style=\"padding: 30px; background: linear-gradient(135deg, #667eea 0%, #764ba2 100%);\n",
       "                        color: white; border-radius: 15px; margin: 20px 0; box-shadow: 0 4px 6px rgba(0,0,0,0.1);\">\n",
       "                <h1 style=\"margin: 0 0 15px 0; font-size: 2.5em;\">🎓 Welcome to DS-Tutor!</h1>\n",
       "                <p style=\"font-size: 1.2em; margin: 10px 0;\">\n",
       "                    AI-Powered Data Science Learning in Jupyter Notebooks\n",
       "                </p>\n",
       "                <hr style=\"border: none; border-top: 2px solid rgba(255,255,255,0.3); margin: 20px 0;\">\n",
       "                <div style=\"font-size: 1.1em;\">\n",
       "                    <p><strong>📚 Learn:</strong> NumPy, Pandas, Matplotlib, Scikit-learn, and more</p>\n",
       "                    <p><strong>🤖 AI Guidance:</strong> Get intelligent hints and personalized feedback</p>\n",
       "                    <p><strong>✨ Interactive:</strong> Code, learn, and get instant validation</p>\n",
       "                </div>\n",
       "                <div style=\"margin-top: 25px; padding: 15px; background: rgba(255,255,255,0.1);\n",
       "                            border-radius: 8px; text-align: left;\">\n",
       "                    <p style=\"margin: 0; font-size: 1.1em;\"><strong>Get Started:</strong></p>\n",
       "                    <code style=\"background: rgba(255,255,255,0.95); color: #2c3e50; padding: 8px 12px;\n",
       "                               border-radius: 5px; display: inline-block; margin-top: 10px;\n",
       "                               font-family: monospace; font-weight: 500;\">%dstutor topics</code>\n",
       "                    <span style=\"margin: 0 10px;\">or</span>\n",
       "                    <code style=\"background: rgba(255,255,255,0.95); color: #2c3e50; padding: 8px 12px;\n",
       "                               border-radius: 5px; display: inline-block;\n",
       "                               font-family: monospace; font-weight: 500;\">%dstutor start python</code>\n",
       "                </div>\n",
       "            </div>\n",
       "            "
      ],
      "text/plain": [
       "<IPython.core.display.HTML object>"
      ]
     },
     "metadata": {},
     "output_type": "display_data"
    },
    {
     "data": {
      "text/html": [
       "<div style=\"color: #5cb85c; padding: 10px; border-left: 4px solid #5cb85c; margin-top: 10px;\">✅ DS-Tutor initialized successfully!</div>"
      ],
      "text/plain": [
       "<IPython.core.display.HTML object>"
      ]
     },
     "metadata": {},
     "output_type": "display_data"
    }
   ],
   "source": [
    "%dstutor init"
   ]
  },
  {
   "cell_type": "markdown",
   "metadata": {},
   "source": [
    "## Step 3: Explore Available Topics\n",
    "\n",
    "Let's see what you can learn:"
   ]
  },
  {
   "cell_type": "code",
   "execution_count": 9,
   "metadata": {},
   "outputs": [
    {
     "data": {
      "text/html": [
       "<div style=\"padding: 15px; background: #f8f9fa; border-radius: 5px;\"><h3 style=\"margin-top: 0;\">⚙️ Configuration</h3><table style=\"width: 100%; border-collapse: collapse;\"><tr><td style=\"padding: 8px; border-bottom: 1px solid #ddd;\"><strong>auto_validate:</strong></td><td style=\"padding: 8px; border-bottom: 1px solid #ddd;\">True</td></tr><tr><td style=\"padding: 8px; border-bottom: 1px solid #ddd;\"><strong>hint_style:</strong></td><td style=\"padding: 8px; border-bottom: 1px solid #ddd;\">progressive</td></tr><tr><td style=\"padding: 8px; border-bottom: 1px solid #ddd;\"><strong>feedback_verbosity:</strong></td><td style=\"padding: 8px; border-bottom: 1px solid #ddd;\">normal</td></tr><tr><td style=\"padding: 8px; border-bottom: 1px solid #ddd;\"><strong>difficulty:</strong></td><td style=\"padding: 8px; border-bottom: 1px solid #ddd;\">medium</td></tr><tr><td style=\"padding: 8px; border-bottom: 1px solid #ddd;\"><strong>user_id:</strong></td><td style=\"padding: 8px; border-bottom: 1px solid #ddd;\">default</td></tr><tr><td style=\"padding: 8px; border-bottom: 1px solid #ddd;\"><strong>llm_enabled:</strong></td><td style=\"padding: 8px; border-bottom: 1px solid #ddd;\">True</td></tr><tr><td style=\"padding: 8px; border-bottom: 1px solid #ddd;\"><strong>current_topic:</strong></td><td style=\"padding: 8px; border-bottom: 1px solid #ddd;\">None</td></tr><tr><td style=\"padding: 8px; border-bottom: 1px solid #ddd;\"><strong>current_lesson:</strong></td><td style=\"padding: 8px; border-bottom: 1px solid #ddd;\">None</td></tr></table></div>"
      ],
      "text/plain": [
       "<IPython.core.display.HTML object>"
      ]
     },
     "metadata": {},
     "output_type": "display_data"
    }
   ],
   "source": [
    "%dstutor config\n"
   ]
  },
  {
   "cell_type": "code",
   "execution_count": 10,
   "metadata": {},
   "outputs": [
    {
     "data": {
      "text/html": [
       "<div style=\"padding: 15px; background: #f8f9fa; border-radius: 5px;\"><h3 style=\"margin-top: 0;\">📚 Available Topics</h3><h4 style=\"color: #007bff; margin-top: 15px;\">Level 1: Foundations (Beginner)</h4><ul style=\"list-style: none; padding-left: 0;\"><li style=\"margin: 8px 0;\"><strong>📖 Python Fundamentals</strong> - Review Python basics <code style=\"background: rgba(255,255,255,0.95); color: #2c3e50; padding: 2px 6px; border-radius: 3px; font-family: monospace; margin-left: 8px;\">%dstutor start python</code></li><li style=\"margin: 8px 0;\"><strong>📖 NumPy Mastery</strong> - Array manipulation and operations <code style=\"background: rgba(255,255,255,0.95); color: #2c3e50; padding: 2px 6px; border-radius: 3px; font-family: monospace; margin-left: 8px;\">%dstutor start numpy</code></li><li style=\"margin: 8px 0;\"><strong>📖 Pandas Deep Dive</strong> - Data manipulation with Pandas <code style=\"background: rgba(255,255,255,0.95); color: #2c3e50; padding: 2px 6px; border-radius: 3px; font-family: monospace; margin-left: 8px;\">%dstutor start pandas</code></li><li style=\"margin: 8px 0;\"><strong>📖 Matplotlib & Seaborn</strong> - Data visualization <code style=\"background: rgba(255,255,255,0.95); color: #2c3e50; padding: 2px 6px; border-radius: 3px; font-family: monospace; margin-left: 8px;\">%dstutor start matplotlib</code></li></ul><h4 style=\"color: #007bff; margin-top: 15px;\">Level 2: Classical ML Pipeline (Intermediate)</h4><ul style=\"list-style: none; padding-left: 0;\"><li style=\"margin: 8px 0;\"><strong>🔒 Exploratory Data Analysis</strong> - Understand and explore your data <code style=\"background: rgba(255,255,255,0.95); color: #2c3e50; padding: 2px 6px; border-radius: 3px; font-family: monospace; margin-left: 8px;\">%dstutor start eda</code></li><li style=\"margin: 8px 0;\"><strong>🔒 Data Preprocessing</strong> - Clean and prepare data for modeling <code style=\"background: rgba(255,255,255,0.95); color: #2c3e50; padding: 2px 6px; border-radius: 3px; font-family: monospace; margin-left: 8px;\">%dstutor start preprocessing</code></li><li style=\"margin: 8px 0;\"><strong>🔒 Scikit-Learn Modeling</strong> - Build machine learning models <code style=\"background: rgba(255,255,255,0.95); color: #2c3e50; padding: 2px 6px; border-radius: 3px; font-family: monospace; margin-left: 8px;\">%dstutor start sklearn</code></li></ul><h4 style=\"color: #007bff; margin-top: 15px;\">Level 3: Advanced Topics (Advanced)</h4><p style=\"color: #f0ad4e; font-style: italic; margin: 5px 0;\">🚧 Currently in development - Coming soon!</p><ul style=\"list-style: none; padding-left: 0;\"><li style=\"margin: 8px 0;\"><strong>🔒 Deep Learning with Keras</strong> - Neural networks with Keras <span style=\"color: #999; font-style: italic;\">(Coming soon)</span></li><li style=\"margin: 8px 0;\"><strong>🔒 PyTorch Fundamentals</strong> - Deep learning with PyTorch <span style=\"color: #999; font-style: italic;\">(Coming soon)</span></li></ul></div>"
      ],
      "text/plain": [
       "<IPython.core.display.HTML object>"
      ]
     },
     "metadata": {},
     "output_type": "display_data"
    }
   ],
   "source": [
    "%dstutor topics"
   ]
  },
  {
   "cell_type": "markdown",
   "metadata": {},
   "source": [
    "## Step 4: Start Learning NumPy\n",
    "\n",
    "Let's begin with NumPy, the foundation of numerical computing in Python:"
   ]
  },
  {
   "cell_type": "code",
   "execution_count": 12,
   "metadata": {},
   "outputs": [
    {
     "data": {
      "text/html": [
       "\n",
       "        <div style=\"padding: 20px; background: linear-gradient(135deg, #667eea 0%, #764ba2 100%);\n",
       "                    color: white; border-radius: 10px; margin: 15px 0; box-shadow: 0 3px 5px rgba(0,0,0,0.1);\">\n",
       "            <h2 style=\"margin: 0 0 8px 0;\">📚 Pandas - GroupBy Operations</h2>\n",
       "            <p style=\"margin: 5px 0; opacity: 0.9; font-size: 1.1em;\">\n",
       "                Lesson 5 of 15 •\n",
       "                Level: Intermediate •\n",
       "                Duration: 25 min\n",
       "            </p>\n",
       "            <div style=\"background: rgba(255,255,255,0.2); height: 8px; border-radius: 4px; margin-top: 12px; overflow: hidden;\">\n",
       "                <div style=\"background: white; height: 100%; width: 33.33333333333333%; border-radius: 4px;\"></div>\n",
       "            </div>\n",
       "        </div>\n",
       "        "
      ],
      "text/plain": [
       "<IPython.core.display.HTML object>"
      ]
     },
     "metadata": {},
     "output_type": "display_data"
    },
    {
     "data": {
      "text/markdown": [
       "# GroupBy - Split, Apply, Combine\n",
       "\n",
       "One of Pandas' most powerful features - group data by categories and compute\n",
       "statistics. Essential for data analysis!\n",
       "\n",
       "**What you'll learn:**\n",
       "- The split-apply-combine pattern\n",
       "- Group by single and multiple columns\n",
       "- Common aggregations (mean, sum, count, etc.)\n",
       "- Custom aggregations\n"
      ],
      "text/plain": [
       "<IPython.core.display.Markdown object>"
      ]
     },
     "metadata": {},
     "output_type": "display_data"
    },
    {
     "data": {
      "text/markdown": [
       "## The GroupBy Pattern\n",
       "\n",
       "**Split-Apply-Combine:**\n",
       "1. **Split** - Divide data into groups based on criteria\n",
       "2. **Apply** - Compute a function on each group\n",
       "3. **Combine** - Merge results into a new structure\n",
       "\n",
       "**Basic Syntax:**\n",
       "```python\n",
       "df.groupby('column').agg_function()\n",
       "```\n",
       "\n",
       "**Common Aggregations:**\n",
       "- `sum()` - Total\n",
       "- `mean()` - Average\n",
       "- `count()` - Number of items\n",
       "- `min()`, `max()` - Range\n",
       "- `std()` - Standard deviation\n",
       "- `agg()` - Custom/multiple aggregations\n",
       "\n",
       "**Real-world Examples:**\n",
       "- Sales by region\n",
       "- Average salary by department\n",
       "- Student scores by class\n",
       "- Revenue by product category\n"
      ],
      "text/plain": [
       "<IPython.core.display.Markdown object>"
      ]
     },
     "metadata": {},
     "output_type": "display_data"
    },
    {
     "data": {
      "text/markdown": [
       "### 💡 Example: Basic GroupBy"
      ],
      "text/plain": [
       "<IPython.core.display.Markdown object>"
      ]
     },
     "metadata": {},
     "output_type": "display_data"
    },
    {
     "data": {
      "text/markdown": [
       "```python\n",
       "import pandas as pd\n",
       "\n",
       "df = pd.DataFrame({\n",
       "    'Department': ['Sales', 'Sales', 'Engineering', 'Engineering', 'Marketing'],\n",
       "    'Employee': ['Alice', 'Bob', 'Charlie', 'David', 'Eve'],\n",
       "    'Salary': [70000, 65000, 90000, 85000, 60000]\n",
       "})\n",
       "\n",
       "print(\"Original Data:\")\n",
       "print(df)\n",
       "print()\n",
       "\n",
       "# Average salary by department\n",
       "avg_salary = df.groupby('Department')['Salary'].mean()\n",
       "print(\"Average Salary by Department:\")\n",
       "print(avg_salary)\n",
       "print()\n",
       "\n",
       "# Count employees by department\n",
       "counts = df.groupby('Department').size()\n",
       "print(\"Employees per Department:\")\n",
       "print(counts)\n",
       "\n",
       "```"
      ],
      "text/plain": [
       "<IPython.core.display.Markdown object>"
      ]
     },
     "metadata": {},
     "output_type": "display_data"
    },
    {
     "data": {
      "text/markdown": [
       "**Expected Output:**\n",
       "```\n",
       "Original Data:\n",
       "   Department Employee  Salary\n",
       "0       Sales    Alice   70000\n",
       "1       Sales      Bob   65000\n",
       "2 Engineering  Charlie   90000\n",
       "3 Engineering    David   85000\n",
       "4   Marketing      Eve   60000\n",
       "\n",
       "Average Salary by Department:\n",
       "Department\n",
       "Engineering    87500.0\n",
       "Marketing      60000.0\n",
       "Sales          67500.0\n",
       "Name: Salary, dtype: float64\n",
       "\n",
       "Employees per Department:\n",
       "Department\n",
       "Engineering    2\n",
       "Marketing      1\n",
       "Sales          2\n",
       "dtype: int64\n",
       "\n",
       "```"
      ],
      "text/plain": [
       "<IPython.core.display.Markdown object>"
      ]
     },
     "metadata": {},
     "output_type": "display_data"
    },
    {
     "data": {
      "text/markdown": [
       "### 💡 Example: Multiple Aggregations"
      ],
      "text/plain": [
       "<IPython.core.display.Markdown object>"
      ]
     },
     "metadata": {},
     "output_type": "display_data"
    },
    {
     "data": {
      "text/markdown": [
       "```python\n",
       "import pandas as pd\n",
       "\n",
       "sales_data = pd.DataFrame({\n",
       "    'Region': ['East', 'East', 'West', 'West', 'East'],\n",
       "    'Product': ['A', 'B', 'A', 'B', 'A'],\n",
       "    'Sales': [100, 150, 120, 180, 110],\n",
       "    'Units': [10, 15, 12, 18, 11]\n",
       "})\n",
       "\n",
       "print(\"Sales Data:\")\n",
       "print(sales_data)\n",
       "print()\n",
       "\n",
       "# Multiple aggregations\n",
       "summary = sales_data.groupby('Region').agg({\n",
       "    'Sales': ['sum', 'mean'],\n",
       "    'Units': ['sum', 'max']\n",
       "})\n",
       "\n",
       "print(\"Summary by Region:\")\n",
       "print(summary)\n",
       "print()\n",
       "\n",
       "# Rename columns\n",
       "summary_clean = sales_data.groupby('Region').agg({\n",
       "    'Sales': 'sum',\n",
       "    'Units': 'sum'\n",
       "}).rename(columns={'Sales': 'Total_Sales', 'Units': 'Total_Units'})\n",
       "\n",
       "print(\"Clean Summary:\")\n",
       "print(summary_clean)\n",
       "\n",
       "```"
      ],
      "text/plain": [
       "<IPython.core.display.Markdown object>"
      ]
     },
     "metadata": {},
     "output_type": "display_data"
    },
    {
     "data": {
      "text/markdown": [
       "**Expected Output:**\n",
       "```\n",
       "Sales Data:\n",
       "  Region Product  Sales  Units\n",
       "0   East       A    100     10\n",
       "1   East       B    150     15\n",
       "2   West       A    120     12\n",
       "3   West       B    180     18\n",
       "4   East       A    110     11\n",
       "\n",
       "Summary by Region:\n",
       "       Sales        Units\n",
       "         sum  mean   sum max\n",
       "Region\n",
       "East      360 120.0    36  15\n",
       "West      300 150.0    30  18\n",
       "\n",
       "Clean Summary:\n",
       "       Sales  Units\n",
       "Region\n",
       "East     360     36\n",
       "West     300     30\n",
       "\n",
       "```"
      ],
      "text/plain": [
       "<IPython.core.display.Markdown object>"
      ]
     },
     "metadata": {},
     "output_type": "display_data"
    },
    {
     "data": {
      "text/markdown": [
       "### 💡 Example: Group by Multiple Columns"
      ],
      "text/plain": [
       "<IPython.core.display.Markdown object>"
      ]
     },
     "metadata": {},
     "output_type": "display_data"
    },
    {
     "data": {
      "text/markdown": [
       "```python\n",
       "import pandas as pd\n",
       "\n",
       "df = pd.DataFrame({\n",
       "    'City': ['NYC', 'NYC', 'LA', 'LA', 'NYC'],\n",
       "    'Category': ['Food', 'Tech', 'Food', 'Tech', 'Food'],\n",
       "    'Revenue': [1000, 2000, 1200, 2500, 1100]\n",
       "})\n",
       "\n",
       "print(\"Data:\")\n",
       "print(df)\n",
       "print()\n",
       "\n",
       "# Group by multiple columns\n",
       "grouped = df.groupby(['City', 'Category'])['Revenue'].sum()\n",
       "print(\"Revenue by City and Category:\")\n",
       "print(grouped)\n",
       "print()\n",
       "\n",
       "# Unstack for better view\n",
       "print(\"Unstacked view:\")\n",
       "print(grouped.unstack(fill_value=0))\n",
       "\n",
       "```"
      ],
      "text/plain": [
       "<IPython.core.display.Markdown object>"
      ]
     },
     "metadata": {},
     "output_type": "display_data"
    },
    {
     "data": {
      "text/markdown": [
       "**Expected Output:**\n",
       "```\n",
       "Data:\n",
       "  City Category  Revenue\n",
       "0  NYC     Food     1000\n",
       "1  NYC     Tech     2000\n",
       "2   LA     Food     1200\n",
       "3   LA     Tech     2500\n",
       "4  NYC     Food     1100\n",
       "\n",
       "Revenue by City and Category:\n",
       "City  Category\n",
       "LA    Food        1200\n",
       "      Tech        2500\n",
       "NYC   Food        2100\n",
       "      Tech        2000\n",
       "Name: Revenue, dtype: int64\n",
       "\n",
       "Unstacked view:\n",
       "Category  Food  Tech\n",
       "City\n",
       "LA        1200  2500\n",
       "NYC       2100  2000\n",
       "\n",
       "```"
      ],
      "text/plain": [
       "<IPython.core.display.Markdown object>"
      ]
     },
     "metadata": {},
     "output_type": "display_data"
    },
    {
     "data": {
      "text/html": [
       "\n",
       "        <div style=\"padding: 20px; background: #fff3cd; border-left: 5px solid #ffc107;\n",
       "                    margin: 20px 0; border-radius: 5px;\">\n",
       "            <h2 style=\"margin: 0 0 15px 0; color: #856404;\">✏️ Exercise</h2>\n",
       "            <div style=\"color: #856404; line-height: 1.8; white-space: pre-wrap;\">Given employee data, calculate the **total salary** for each department.\n",
       "\n",
       "Data contains: Department, Name, Salary\n",
       "\n",
       "Return a Series with Department as index and total salary as values.\n",
       "</div>\n",
       "        </div>\n",
       "        "
      ],
      "text/plain": [
       "<IPython.core.display.HTML object>"
      ]
     },
     "metadata": {},
     "output_type": "display_data"
    },
    {
     "data": {
      "text/html": [
       "\n",
       "            <div style=\"margin: 15px 0 8px 0; font-weight: bold;\">\n",
       "                📋 Setup Code (Copy and run this first):\n",
       "            </div>\n",
       "            "
      ],
      "text/plain": [
       "<IPython.core.display.HTML object>"
      ]
     },
     "metadata": {},
     "output_type": "display_data"
    },
    {
     "data": {
      "text/html": [
       "<style>pre { line-height: 125%; }\n",
       "td.linenos .normal { color: inherit; background-color: transparent; padding-left: 5px; padding-right: 5px; }\n",
       "span.linenos { color: inherit; background-color: transparent; padding-left: 5px; padding-right: 5px; }\n",
       "td.linenos .special { color: #000000; background-color: #ffffc0; padding-left: 5px; padding-right: 5px; }\n",
       "span.linenos.special { color: #000000; background-color: #ffffc0; padding-left: 5px; padding-right: 5px; }\n",
       ".output_html .hll { background-color: #ffffcc }\n",
       ".output_html { background: #f8f8f8; }\n",
       ".output_html .c { color: #3D7B7B; font-style: italic } /* Comment */\n",
       ".output_html .err { border: 1px solid #F00 } /* Error */\n",
       ".output_html .k { color: #008000; font-weight: bold } /* Keyword */\n",
       ".output_html .o { color: #666 } /* Operator */\n",
       ".output_html .ch { color: #3D7B7B; font-style: italic } /* Comment.Hashbang */\n",
       ".output_html .cm { color: #3D7B7B; font-style: italic } /* Comment.Multiline */\n",
       ".output_html .cp { color: #9C6500 } /* Comment.Preproc */\n",
       ".output_html .cpf { color: #3D7B7B; font-style: italic } /* Comment.PreprocFile */\n",
       ".output_html .c1 { color: #3D7B7B; font-style: italic } /* Comment.Single */\n",
       ".output_html .cs { color: #3D7B7B; font-style: italic } /* Comment.Special */\n",
       ".output_html .gd { color: #A00000 } /* Generic.Deleted */\n",
       ".output_html .ge { font-style: italic } /* Generic.Emph */\n",
       ".output_html .ges { font-weight: bold; font-style: italic } /* Generic.EmphStrong */\n",
       ".output_html .gr { color: #E40000 } /* Generic.Error */\n",
       ".output_html .gh { color: #000080; font-weight: bold } /* Generic.Heading */\n",
       ".output_html .gi { color: #008400 } /* Generic.Inserted */\n",
       ".output_html .go { color: #717171 } /* Generic.Output */\n",
       ".output_html .gp { color: #000080; font-weight: bold } /* Generic.Prompt */\n",
       ".output_html .gs { font-weight: bold } /* Generic.Strong */\n",
       ".output_html .gu { color: #800080; font-weight: bold } /* Generic.Subheading */\n",
       ".output_html .gt { color: #04D } /* Generic.Traceback */\n",
       ".output_html .kc { color: #008000; font-weight: bold } /* Keyword.Constant */\n",
       ".output_html .kd { color: #008000; font-weight: bold } /* Keyword.Declaration */\n",
       ".output_html .kn { color: #008000; font-weight: bold } /* Keyword.Namespace */\n",
       ".output_html .kp { color: #008000 } /* Keyword.Pseudo */\n",
       ".output_html .kr { color: #008000; font-weight: bold } /* Keyword.Reserved */\n",
       ".output_html .kt { color: #B00040 } /* Keyword.Type */\n",
       ".output_html .m { color: #666 } /* Literal.Number */\n",
       ".output_html .s { color: #BA2121 } /* Literal.String */\n",
       ".output_html .na { color: #687822 } /* Name.Attribute */\n",
       ".output_html .nb { color: #008000 } /* Name.Builtin */\n",
       ".output_html .nc { color: #00F; font-weight: bold } /* Name.Class */\n",
       ".output_html .no { color: #800 } /* Name.Constant */\n",
       ".output_html .nd { color: #A2F } /* Name.Decorator */\n",
       ".output_html .ni { color: #717171; font-weight: bold } /* Name.Entity */\n",
       ".output_html .ne { color: #CB3F38; font-weight: bold } /* Name.Exception */\n",
       ".output_html .nf { color: #00F } /* Name.Function */\n",
       ".output_html .nl { color: #767600 } /* Name.Label */\n",
       ".output_html .nn { color: #00F; font-weight: bold } /* Name.Namespace */\n",
       ".output_html .nt { color: #008000; font-weight: bold } /* Name.Tag */\n",
       ".output_html .nv { color: #19177C } /* Name.Variable */\n",
       ".output_html .ow { color: #A2F; font-weight: bold } /* Operator.Word */\n",
       ".output_html .w { color: #BBB } /* Text.Whitespace */\n",
       ".output_html .mb { color: #666 } /* Literal.Number.Bin */\n",
       ".output_html .mf { color: #666 } /* Literal.Number.Float */\n",
       ".output_html .mh { color: #666 } /* Literal.Number.Hex */\n",
       ".output_html .mi { color: #666 } /* Literal.Number.Integer */\n",
       ".output_html .mo { color: #666 } /* Literal.Number.Oct */\n",
       ".output_html .sa { color: #BA2121 } /* Literal.String.Affix */\n",
       ".output_html .sb { color: #BA2121 } /* Literal.String.Backtick */\n",
       ".output_html .sc { color: #BA2121 } /* Literal.String.Char */\n",
       ".output_html .dl { color: #BA2121 } /* Literal.String.Delimiter */\n",
       ".output_html .sd { color: #BA2121; font-style: italic } /* Literal.String.Doc */\n",
       ".output_html .s2 { color: #BA2121 } /* Literal.String.Double */\n",
       ".output_html .se { color: #AA5D1F; font-weight: bold } /* Literal.String.Escape */\n",
       ".output_html .sh { color: #BA2121 } /* Literal.String.Heredoc */\n",
       ".output_html .si { color: #A45A77; font-weight: bold } /* Literal.String.Interpol */\n",
       ".output_html .sx { color: #008000 } /* Literal.String.Other */\n",
       ".output_html .sr { color: #A45A77 } /* Literal.String.Regex */\n",
       ".output_html .s1 { color: #BA2121 } /* Literal.String.Single */\n",
       ".output_html .ss { color: #19177C } /* Literal.String.Symbol */\n",
       ".output_html .bp { color: #008000 } /* Name.Builtin.Pseudo */\n",
       ".output_html .fm { color: #00F } /* Name.Function.Magic */\n",
       ".output_html .vc { color: #19177C } /* Name.Variable.Class */\n",
       ".output_html .vg { color: #19177C } /* Name.Variable.Global */\n",
       ".output_html .vi { color: #19177C } /* Name.Variable.Instance */\n",
       ".output_html .vm { color: #19177C } /* Name.Variable.Magic */\n",
       ".output_html .il { color: #666 } /* Literal.Number.Integer.Long */</style><div class=\"highlight\"><pre><span></span><span class=\"kn\">import</span><span class=\"w\"> </span><span class=\"nn\">pandas</span><span class=\"w\"> </span><span class=\"k\">as</span><span class=\"w\"> </span><span class=\"nn\">pd</span>\n",
       "\n",
       "<span class=\"n\">df</span> <span class=\"o\">=</span> <span class=\"n\">pd</span><span class=\"o\">.</span><span class=\"n\">DataFrame</span><span class=\"p\">({</span>\n",
       "    <span class=\"s1\">&#39;Department&#39;</span><span class=\"p\">:</span> <span class=\"p\">[</span><span class=\"s1\">&#39;HR&#39;</span><span class=\"p\">,</span> <span class=\"s1\">&#39;IT&#39;</span><span class=\"p\">,</span> <span class=\"s1\">&#39;HR&#39;</span><span class=\"p\">,</span> <span class=\"s1\">&#39;IT&#39;</span><span class=\"p\">,</span> <span class=\"s1\">&#39;Sales&#39;</span><span class=\"p\">,</span> <span class=\"s1\">&#39;Sales&#39;</span><span class=\"p\">],</span>\n",
       "    <span class=\"s1\">&#39;Name&#39;</span><span class=\"p\">:</span> <span class=\"p\">[</span><span class=\"s1\">&#39;Alice&#39;</span><span class=\"p\">,</span> <span class=\"s1\">&#39;Bob&#39;</span><span class=\"p\">,</span> <span class=\"s1\">&#39;Charlie&#39;</span><span class=\"p\">,</span> <span class=\"s1\">&#39;David&#39;</span><span class=\"p\">,</span> <span class=\"s1\">&#39;Eve&#39;</span><span class=\"p\">,</span> <span class=\"s1\">&#39;Frank&#39;</span><span class=\"p\">],</span>\n",
       "    <span class=\"s1\">&#39;Salary&#39;</span><span class=\"p\">:</span> <span class=\"p\">[</span><span class=\"mi\">60000</span><span class=\"p\">,</span> <span class=\"mi\">90000</span><span class=\"p\">,</span> <span class=\"mi\">65000</span><span class=\"p\">,</span> <span class=\"mi\">95000</span><span class=\"p\">,</span> <span class=\"mi\">70000</span><span class=\"p\">,</span> <span class=\"mi\">75000</span><span class=\"p\">]</span>\n",
       "<span class=\"p\">})</span>\n",
       "</pre></div>\n"
      ],
      "text/latex": [
       "\\begin{Verbatim}[commandchars=\\\\\\{\\}]\n",
       "\\PY{k+kn}{import}\\PY{+w}{ }\\PY{n+nn}{pandas}\\PY{+w}{ }\\PY{k}{as}\\PY{+w}{ }\\PY{n+nn}{pd}\n",
       "\n",
       "\\PY{n}{df} \\PY{o}{=} \\PY{n}{pd}\\PY{o}{.}\\PY{n}{DataFrame}\\PY{p}{(}\\PY{p}{\\PYZob{}}\n",
       "    \\PY{l+s+s1}{\\PYZsq{}}\\PY{l+s+s1}{Department}\\PY{l+s+s1}{\\PYZsq{}}\\PY{p}{:} \\PY{p}{[}\\PY{l+s+s1}{\\PYZsq{}}\\PY{l+s+s1}{HR}\\PY{l+s+s1}{\\PYZsq{}}\\PY{p}{,} \\PY{l+s+s1}{\\PYZsq{}}\\PY{l+s+s1}{IT}\\PY{l+s+s1}{\\PYZsq{}}\\PY{p}{,} \\PY{l+s+s1}{\\PYZsq{}}\\PY{l+s+s1}{HR}\\PY{l+s+s1}{\\PYZsq{}}\\PY{p}{,} \\PY{l+s+s1}{\\PYZsq{}}\\PY{l+s+s1}{IT}\\PY{l+s+s1}{\\PYZsq{}}\\PY{p}{,} \\PY{l+s+s1}{\\PYZsq{}}\\PY{l+s+s1}{Sales}\\PY{l+s+s1}{\\PYZsq{}}\\PY{p}{,} \\PY{l+s+s1}{\\PYZsq{}}\\PY{l+s+s1}{Sales}\\PY{l+s+s1}{\\PYZsq{}}\\PY{p}{]}\\PY{p}{,}\n",
       "    \\PY{l+s+s1}{\\PYZsq{}}\\PY{l+s+s1}{Name}\\PY{l+s+s1}{\\PYZsq{}}\\PY{p}{:} \\PY{p}{[}\\PY{l+s+s1}{\\PYZsq{}}\\PY{l+s+s1}{Alice}\\PY{l+s+s1}{\\PYZsq{}}\\PY{p}{,} \\PY{l+s+s1}{\\PYZsq{}}\\PY{l+s+s1}{Bob}\\PY{l+s+s1}{\\PYZsq{}}\\PY{p}{,} \\PY{l+s+s1}{\\PYZsq{}}\\PY{l+s+s1}{Charlie}\\PY{l+s+s1}{\\PYZsq{}}\\PY{p}{,} \\PY{l+s+s1}{\\PYZsq{}}\\PY{l+s+s1}{David}\\PY{l+s+s1}{\\PYZsq{}}\\PY{p}{,} \\PY{l+s+s1}{\\PYZsq{}}\\PY{l+s+s1}{Eve}\\PY{l+s+s1}{\\PYZsq{}}\\PY{p}{,} \\PY{l+s+s1}{\\PYZsq{}}\\PY{l+s+s1}{Frank}\\PY{l+s+s1}{\\PYZsq{}}\\PY{p}{]}\\PY{p}{,}\n",
       "    \\PY{l+s+s1}{\\PYZsq{}}\\PY{l+s+s1}{Salary}\\PY{l+s+s1}{\\PYZsq{}}\\PY{p}{:} \\PY{p}{[}\\PY{l+m+mi}{60000}\\PY{p}{,} \\PY{l+m+mi}{90000}\\PY{p}{,} \\PY{l+m+mi}{65000}\\PY{p}{,} \\PY{l+m+mi}{95000}\\PY{p}{,} \\PY{l+m+mi}{70000}\\PY{p}{,} \\PY{l+m+mi}{75000}\\PY{p}{]}\n",
       "\\PY{p}{\\PYZcb{}}\\PY{p}{)}\n",
       "\\end{Verbatim}\n"
      ],
      "text/plain": [
       "import pandas as pd\n",
       "\n",
       "df = pd.DataFrame({\n",
       "    'Department': ['HR', 'IT', 'HR', 'IT', 'Sales', 'Sales'],\n",
       "    'Name': ['Alice', 'Bob', 'Charlie', 'David', 'Eve', 'Frank'],\n",
       "    'Salary': [60000, 90000, 65000, 95000, 70000, 75000]\n",
       "})"
      ]
     },
     "metadata": {},
     "output_type": "display_data"
    },
    {
     "data": {
      "text/html": [
       "\n",
       "        <div style=\"margin: 20px 0 8px 0; font-weight: bold;\">\n",
       "            ✍️ Your Solution (Copy the starter code below):\n",
       "        </div>\n",
       "        "
      ],
      "text/plain": [
       "<IPython.core.display.HTML object>"
      ]
     },
     "metadata": {},
     "output_type": "display_data"
    },
    {
     "data": {
      "text/html": [
       "<style>pre { line-height: 125%; }\n",
       "td.linenos .normal { color: inherit; background-color: transparent; padding-left: 5px; padding-right: 5px; }\n",
       "span.linenos { color: inherit; background-color: transparent; padding-left: 5px; padding-right: 5px; }\n",
       "td.linenos .special { color: #000000; background-color: #ffffc0; padding-left: 5px; padding-right: 5px; }\n",
       "span.linenos.special { color: #000000; background-color: #ffffc0; padding-left: 5px; padding-right: 5px; }\n",
       ".output_html .hll { background-color: #ffffcc }\n",
       ".output_html { background: #f8f8f8; }\n",
       ".output_html .c { color: #3D7B7B; font-style: italic } /* Comment */\n",
       ".output_html .err { border: 1px solid #F00 } /* Error */\n",
       ".output_html .k { color: #008000; font-weight: bold } /* Keyword */\n",
       ".output_html .o { color: #666 } /* Operator */\n",
       ".output_html .ch { color: #3D7B7B; font-style: italic } /* Comment.Hashbang */\n",
       ".output_html .cm { color: #3D7B7B; font-style: italic } /* Comment.Multiline */\n",
       ".output_html .cp { color: #9C6500 } /* Comment.Preproc */\n",
       ".output_html .cpf { color: #3D7B7B; font-style: italic } /* Comment.PreprocFile */\n",
       ".output_html .c1 { color: #3D7B7B; font-style: italic } /* Comment.Single */\n",
       ".output_html .cs { color: #3D7B7B; font-style: italic } /* Comment.Special */\n",
       ".output_html .gd { color: #A00000 } /* Generic.Deleted */\n",
       ".output_html .ge { font-style: italic } /* Generic.Emph */\n",
       ".output_html .ges { font-weight: bold; font-style: italic } /* Generic.EmphStrong */\n",
       ".output_html .gr { color: #E40000 } /* Generic.Error */\n",
       ".output_html .gh { color: #000080; font-weight: bold } /* Generic.Heading */\n",
       ".output_html .gi { color: #008400 } /* Generic.Inserted */\n",
       ".output_html .go { color: #717171 } /* Generic.Output */\n",
       ".output_html .gp { color: #000080; font-weight: bold } /* Generic.Prompt */\n",
       ".output_html .gs { font-weight: bold } /* Generic.Strong */\n",
       ".output_html .gu { color: #800080; font-weight: bold } /* Generic.Subheading */\n",
       ".output_html .gt { color: #04D } /* Generic.Traceback */\n",
       ".output_html .kc { color: #008000; font-weight: bold } /* Keyword.Constant */\n",
       ".output_html .kd { color: #008000; font-weight: bold } /* Keyword.Declaration */\n",
       ".output_html .kn { color: #008000; font-weight: bold } /* Keyword.Namespace */\n",
       ".output_html .kp { color: #008000 } /* Keyword.Pseudo */\n",
       ".output_html .kr { color: #008000; font-weight: bold } /* Keyword.Reserved */\n",
       ".output_html .kt { color: #B00040 } /* Keyword.Type */\n",
       ".output_html .m { color: #666 } /* Literal.Number */\n",
       ".output_html .s { color: #BA2121 } /* Literal.String */\n",
       ".output_html .na { color: #687822 } /* Name.Attribute */\n",
       ".output_html .nb { color: #008000 } /* Name.Builtin */\n",
       ".output_html .nc { color: #00F; font-weight: bold } /* Name.Class */\n",
       ".output_html .no { color: #800 } /* Name.Constant */\n",
       ".output_html .nd { color: #A2F } /* Name.Decorator */\n",
       ".output_html .ni { color: #717171; font-weight: bold } /* Name.Entity */\n",
       ".output_html .ne { color: #CB3F38; font-weight: bold } /* Name.Exception */\n",
       ".output_html .nf { color: #00F } /* Name.Function */\n",
       ".output_html .nl { color: #767600 } /* Name.Label */\n",
       ".output_html .nn { color: #00F; font-weight: bold } /* Name.Namespace */\n",
       ".output_html .nt { color: #008000; font-weight: bold } /* Name.Tag */\n",
       ".output_html .nv { color: #19177C } /* Name.Variable */\n",
       ".output_html .ow { color: #A2F; font-weight: bold } /* Operator.Word */\n",
       ".output_html .w { color: #BBB } /* Text.Whitespace */\n",
       ".output_html .mb { color: #666 } /* Literal.Number.Bin */\n",
       ".output_html .mf { color: #666 } /* Literal.Number.Float */\n",
       ".output_html .mh { color: #666 } /* Literal.Number.Hex */\n",
       ".output_html .mi { color: #666 } /* Literal.Number.Integer */\n",
       ".output_html .mo { color: #666 } /* Literal.Number.Oct */\n",
       ".output_html .sa { color: #BA2121 } /* Literal.String.Affix */\n",
       ".output_html .sb { color: #BA2121 } /* Literal.String.Backtick */\n",
       ".output_html .sc { color: #BA2121 } /* Literal.String.Char */\n",
       ".output_html .dl { color: #BA2121 } /* Literal.String.Delimiter */\n",
       ".output_html .sd { color: #BA2121; font-style: italic } /* Literal.String.Doc */\n",
       ".output_html .s2 { color: #BA2121 } /* Literal.String.Double */\n",
       ".output_html .se { color: #AA5D1F; font-weight: bold } /* Literal.String.Escape */\n",
       ".output_html .sh { color: #BA2121 } /* Literal.String.Heredoc */\n",
       ".output_html .si { color: #A45A77; font-weight: bold } /* Literal.String.Interpol */\n",
       ".output_html .sx { color: #008000 } /* Literal.String.Other */\n",
       ".output_html .sr { color: #A45A77 } /* Literal.String.Regex */\n",
       ".output_html .s1 { color: #BA2121 } /* Literal.String.Single */\n",
       ".output_html .ss { color: #19177C } /* Literal.String.Symbol */\n",
       ".output_html .bp { color: #008000 } /* Name.Builtin.Pseudo */\n",
       ".output_html .fm { color: #00F } /* Name.Function.Magic */\n",
       ".output_html .vc { color: #19177C } /* Name.Variable.Class */\n",
       ".output_html .vg { color: #19177C } /* Name.Variable.Global */\n",
       ".output_html .vi { color: #19177C } /* Name.Variable.Instance */\n",
       ".output_html .vm { color: #19177C } /* Name.Variable.Magic */\n",
       ".output_html .il { color: #666 } /* Literal.Number.Integer.Long */</style><div class=\"highlight\"><pre><span></span><span class=\"c1\"># Your code here</span>\n",
       "<span class=\"n\">result</span> <span class=\"o\">=</span>\n",
       "</pre></div>\n"
      ],
      "text/latex": [
       "\\begin{Verbatim}[commandchars=\\\\\\{\\}]\n",
       "\\PY{c+c1}{\\PYZsh{} Your code here}\n",
       "\\PY{n}{result} \\PY{o}{=}\n",
       "\\end{Verbatim}\n"
      ],
      "text/plain": [
       "# Your code here\n",
       "result ="
      ]
     },
     "metadata": {},
     "output_type": "display_data"
    },
    {
     "data": {
      "text/html": [
       "\n",
       "        <div style=\"padding: 15px; background: #e7f3ff; border-left: 4px solid #2196f3;\n",
       "                    margin: 15px 0; border-radius: 5px;\">\n",
       "            <h4 style=\"margin: 0 0 10px 0; color: #1565c0;\">📝 How to Complete This Exercise:</h4>\n",
       "            <ol style=\"margin: 5px 0; padding-left: 20px; color: #1565c0;\">\n",
       "                <li>Create a new code cell below (Click \"+ Code\" or press B)</li>\n",
       "                <li>Copy the starter code above into your cell</li>\n",
       "                <li>Complete the exercise</li>\n",
       "                <li>Run your code to test it</li>\n",
       "                <li>Use <code>%dstutor check</code> to validate your solution ✅</li>\n",
       "                <li>Use <code>%dstutor hint</code> if you need help</li>\n",
       "                <li>Use <code>%dstutor solution</code> to see the answer</li>\n",
       "                <li>Use <code>%dstutor next</code> when ready to continue</li>\n",
       "            </ol>\n",
       "        </div>\n",
       "        "
      ],
      "text/plain": [
       "<IPython.core.display.HTML object>"
      ]
     },
     "metadata": {},
     "output_type": "display_data"
    },
    {
     "data": {
      "text/html": [
       "\n",
       "        <div style=\"padding: 15px; background: #f8f9fa; border-radius: 8px; margin: 20px 0; border: 2px solid #dee2e6;\">\n",
       "            <h3 style=\"margin: 0 0 10px 0; color: #495057;\">📌 Navigation Commands</h3>\n",
       "            <div style=\"display: grid; grid-template-columns: repeat(auto-fit, minmax(200px, 1fr)); gap: 10px; font-family: monospace;\">\n",
       "                <div style=\"padding: 8px; background: white; border-radius: 4px;\">\n",
       "                    <code>%dstutor next</code> → Next lesson\n",
       "                </div>\n",
       "                <div style=\"padding: 8px; background: white; border-radius: 4px;\">\n",
       "                    <code>%dstutor previous</code> → Previous lesson\n",
       "                </div>\n",
       "                <div style=\"padding: 8px; background: white; border-radius: 4px;\">\n",
       "                    <code>%dstutor hint</code> → Get a hint\n",
       "                </div>\n",
       "                <div style=\"padding: 8px; background: white; border-radius: 4px;\">\n",
       "                    <code>%dstutor solution</code> → Show solution\n",
       "                </div>\n",
       "            </div>\n",
       "        </div>\n",
       "        "
      ],
      "text/plain": [
       "<IPython.core.display.HTML object>"
      ]
     },
     "metadata": {},
     "output_type": "display_data"
    }
   ],
   "source": [
    "%dstutor goto pandas_05"
   ]
  },
  {
   "cell_type": "code",
   "execution_count": 25,
   "metadata": {},
   "outputs": [],
   "source": [
    "import pandas as pd\n",
    "\n",
    "df = pd.DataFrame({\n",
    "    'Department': ['HR', 'IT', 'HR', 'IT', 'Sales', 'Sales'],\n",
    "    'Name': ['Alice', 'Bob', 'Charlie', 'David', 'Eve', 'Frank'],\n",
    "    'Salary': [60000, 90000, 65000, 95000, 70000, 75000]\n",
    "})\n",
    "result=None\n",
    "result = df.groupby(['Department', 'Salary'], as_index=\"Department\")['Salary'].sum()"
   ]
  },
  {
   "cell_type": "code",
   "execution_count": 28,
   "metadata": {},
   "outputs": [
    {
     "data": {
      "text/html": [
       "\n",
       "                    <div style=\"padding: 20px; background: #d4edda; border: 2px solid #28a745; border-radius: 8px; margin: 15px 0;\">\n",
       "                        <h3 style=\"color: #155724; margin: 0 0 10px 0;\">✅ Correct! Well Done!</h3>\n",
       "                        <p style=\"color: #155724; margin: 0;\">Correct! ✅</p>\n",
       "                    </div>\n",
       "                    "
      ],
      "text/plain": [
       "<IPython.core.display.HTML object>"
      ]
     },
     "metadata": {},
     "output_type": "display_data"
    }
   ],
   "source": [
    "%dstutor check"
   ]
  },
  {
   "cell_type": "code",
   "execution_count": 29,
   "metadata": {},
   "outputs": [
    {
     "data": {
      "text/html": [
       "\n",
       "        <div style=\"padding: 20px; background: linear-gradient(135deg, #667eea 0%, #764ba2 100%);\n",
       "                    color: white; border-radius: 10px; margin: 15px 0; box-shadow: 0 3px 5px rgba(0,0,0,0.1);\">\n",
       "            <h2 style=\"margin: 0 0 8px 0;\">📚 Pandas - Handling Missing Data</h2>\n",
       "            <p style=\"margin: 5px 0; opacity: 0.9; font-size: 1.1em;\">\n",
       "                Lesson 6 of 15 •\n",
       "                Level: Intermediate •\n",
       "                Duration: 25 min\n",
       "            </p>\n",
       "            <div style=\"background: rgba(255,255,255,0.2); height: 8px; border-radius: 4px; margin-top: 12px; overflow: hidden;\">\n",
       "                <div style=\"background: white; height: 100%; width: 40.0%; border-radius: 4px;\"></div>\n",
       "            </div>\n",
       "        </div>\n",
       "        "
      ],
      "text/plain": [
       "<IPython.core.display.HTML object>"
      ]
     },
     "metadata": {},
     "output_type": "display_data"
    },
    {
     "data": {
      "text/markdown": [
       "# Handling Missing Data in Pandas\n",
       "\n",
       "Real-world data is messy! Missing values are everywhere. Learning to handle them\n",
       "properly is crucial for accurate analysis and modeling.\n",
       "\n",
       "**What you'll learn:**\n",
       "- Detect and count missing values\n",
       "- Different strategies for handling them\n",
       "- When to drop vs impute\n",
       "- Best practices for missing data\n"
      ],
      "text/plain": [
       "<IPython.core.display.Markdown object>"
      ]
     },
     "metadata": {},
     "output_type": "display_data"
    },
    {
     "data": {
      "text/markdown": [
       "## Missing Data in Pandas\n",
       "\n",
       "**How Missing Data Appears:**\n",
       "- `NaN` (Not a Number) - default for numeric columns\n",
       "- `None` - Python's null value\n",
       "- Empty strings (sometimes)\n",
       "- Custom placeholders (-999, \"N/A\", etc.)\n",
       "\n",
       "**Detection Methods:**\n",
       "- `.isnull()` or `.isna()` - Returns boolean DataFrame\n",
       "- `.notnull()` or `.notna()` - Opposite of isnull\n",
       "- `.isnull().sum()` - Count missing per column\n",
       "\n",
       "**Handling Strategies:**\n",
       "\n",
       "1. **Drop Missing Data**\n",
       "   - `.dropna()` - Remove rows/columns with NaN\n",
       "   - Use when: Small amount of missing data, non-critical rows\n",
       "\n",
       "2. **Fill Missing Data**\n",
       "   - `.fillna(value)` - Replace with specific value\n",
       "   - `.ffill()` - Forward fill (use previous value)\n",
       "    - `.bfill()` - Backward fill (use next value)\n",
       "   - `.interpolate()` - Interpolate values\n",
       "\n",
       "3. **Imputation**\n",
       "   - Fill with mean/median/mode\n",
       "   - Use domain knowledge\n",
       "   - Advanced: ML-based imputation\n",
       "\n",
       "**When to Use Each:**\n",
       "- **Drop**: <5% missing, random pattern\n",
       "- **Mean/Median**: Numeric, normal distribution\n",
       "- **Mode**: Categorical data\n",
       "- **Forward/Backward Fill**: Time series\n",
       "- **Keep as NaN**: Missingness is informative\n"
      ],
      "text/plain": [
       "<IPython.core.display.Markdown object>"
      ]
     },
     "metadata": {},
     "output_type": "display_data"
    },
    {
     "data": {
      "text/markdown": [
       "### 💡 Example: Detecting Missing Values"
      ],
      "text/plain": [
       "<IPython.core.display.Markdown object>"
      ]
     },
     "metadata": {},
     "output_type": "display_data"
    },
    {
     "data": {
      "text/markdown": [
       "```python\n",
       "import pandas as pd\n",
       "import numpy as np\n",
       "\n",
       "# Create DataFrame with missing values\n",
       "df = pd.DataFrame({\n",
       "    'Name': ['Alice', 'Bob', 'Charlie', 'David', 'Eve'],\n",
       "    'Age': [25, np.nan, 35, 28, np.nan],\n",
       "    'City': ['NYC', 'LA', None, 'Boston', 'Seattle'],\n",
       "    'Salary': [70000, 80000, np.nan, 65000, 85000]\n",
       "})\n",
       "\n",
       "print(\"DataFrame:\")\n",
       "print(df)\n",
       "print()\n",
       "\n",
       "# Check for missing values\n",
       "print(\"Missing values (boolean):\")\n",
       "print(df.isnull())\n",
       "print()\n",
       "\n",
       "# Count missing per column\n",
       "print(\"Missing count per column:\")\n",
       "print(df.isnull().sum())\n",
       "print()\n",
       "\n",
       "# Percentage missing\n",
       "print(\"Percentage missing:\")\n",
       "print((df.isnull().sum() / len(df) * 100).round(1))\n",
       "\n",
       "```"
      ],
      "text/plain": [
       "<IPython.core.display.Markdown object>"
      ]
     },
     "metadata": {},
     "output_type": "display_data"
    },
    {
     "data": {
      "text/markdown": [
       "**Expected Output:**\n",
       "```\n",
       "DataFrame:\n",
       "      Name   Age     City   Salary\n",
       "0   Alice  25.0      NYC  70000.0\n",
       "1     Bob   NaN       LA  80000.0\n",
       "2 Charlie  35.0     None      NaN\n",
       "3   David  28.0   Boston  65000.0\n",
       "4     Eve   NaN  Seattle  85000.0\n",
       "\n",
       "Missing values (boolean):\n",
       "    Name    Age   City  Salary\n",
       "0  False  False  False   False\n",
       "1  False   True  False   False\n",
       "2  False  False   True    True\n",
       "3  False  False  False   False\n",
       "4  False   True  False   False\n",
       "\n",
       "Missing count per column:\n",
       "Name      0\n",
       "Age       2\n",
       "City      1\n",
       "Salary    1\n",
       "dtype: int64\n",
       "\n",
       "Percentage missing:\n",
       "Name       0.0\n",
       "Age       40.0\n",
       "City      20.0\n",
       "Salary    20.0\n",
       "dtype: float64\n",
       "\n",
       "```"
      ],
      "text/plain": [
       "<IPython.core.display.Markdown object>"
      ]
     },
     "metadata": {},
     "output_type": "display_data"
    },
    {
     "data": {
      "text/markdown": [
       "### 💡 Example: Dropping Missing Values"
      ],
      "text/plain": [
       "<IPython.core.display.Markdown object>"
      ]
     },
     "metadata": {},
     "output_type": "display_data"
    },
    {
     "data": {
      "text/markdown": [
       "```python\n",
       "import pandas as pd\n",
       "import numpy as np\n",
       "\n",
       "df = pd.DataFrame({\n",
       "    'A': [1, 2, np.nan, 4],\n",
       "    'B': [5, np.nan, np.nan, 8],\n",
       "    'C': [9, 10, 11, 12]\n",
       "})\n",
       "\n",
       "print(\"Original DataFrame:\")\n",
       "print(df)\n",
       "print()\n",
       "\n",
       "# Drop rows with ANY missing values\n",
       "print(\"Drop rows with ANY NaN:\")\n",
       "print(df.dropna())\n",
       "print()\n",
       "\n",
       "# Drop rows where ALL values are missing\n",
       "print(\"Drop rows where ALL are NaN:\")\n",
       "print(df.dropna(how='all'))\n",
       "print()\n",
       "\n",
       "# Drop columns with missing values\n",
       "print(\"Drop columns with ANY NaN:\")\n",
       "print(df.dropna(axis=1))\n",
       "print()\n",
       "\n",
       "# Drop rows with at least 2 non-NaN values\n",
       "print(\"Keep rows with at least 2 non-NaN:\")\n",
       "print(df.dropna(thresh=2))\n",
       "\n",
       "```"
      ],
      "text/plain": [
       "<IPython.core.display.Markdown object>"
      ]
     },
     "metadata": {},
     "output_type": "display_data"
    },
    {
     "data": {
      "text/markdown": [
       "**Expected Output:**\n",
       "```\n",
       "Original DataFrame:\n",
       "     A    B   C\n",
       "0  1.0  5.0   9\n",
       "1  2.0  NaN  10\n",
       "2  NaN  NaN  11\n",
       "3  4.0  8.0  12\n",
       "\n",
       "Drop rows with ANY NaN:\n",
       "     A    B   C\n",
       "0  1.0  5.0   9\n",
       "3  4.0  8.0  12\n",
       "\n",
       "Drop rows where ALL are NaN:\n",
       "     A    B   C\n",
       "0  1.0  5.0   9\n",
       "1  2.0  NaN  10\n",
       "2  NaN  NaN  11\n",
       "3  4.0  8.0  12\n",
       "\n",
       "Drop columns with ANY NaN:\n",
       "    C\n",
       "0   9\n",
       "1  10\n",
       "2  11\n",
       "3  12\n",
       "\n",
       "Keep rows with at least 2 non-NaN:\n",
       "     A    B   C\n",
       "0  1.0  5.0   9\n",
       "1  2.0  NaN  10\n",
       "3  4.0  8.0  12\n",
       "\n",
       "```"
      ],
      "text/plain": [
       "<IPython.core.display.Markdown object>"
      ]
     },
     "metadata": {},
     "output_type": "display_data"
    },
    {
     "data": {
      "text/markdown": [
       "### 💡 Example: Filling Missing Values"
      ],
      "text/plain": [
       "<IPython.core.display.Markdown object>"
      ]
     },
     "metadata": {},
     "output_type": "display_data"
    },
    {
     "data": {
      "text/markdown": [
       "```python\n",
       "import pandas as pd\n",
       "import numpy as np\n",
       "\n",
       "df = pd.DataFrame({\n",
       "    'A': [1, np.nan, 3, np.nan, 5],\n",
       "    'B': [10, 20, np.nan, 40, 50]\n",
       "})\n",
       "\n",
       "print(\"Original:\")\n",
       "print(df)\n",
       "print()\n",
       "\n",
       "# Fill with a constant\n",
       "print(\"Fill with 0:\")\n",
       "print(df.fillna(0))\n",
       "print()\n",
       "\n",
       "# Fill with column mean\n",
       "print(\"Fill with column mean:\")\n",
       "print(df.fillna(df.mean()))\n",
       "print()\n",
       "\n",
       "# Forward fill\n",
       "print(\"Forward fill:\")\n",
       "print(df.ffill())\n",
       "print()\n",
       "\n",
       "# Backward fill\n",
       "print(\"Backward fill:\")\n",
       "print(df.bfill())\n",
       "\n",
       "```"
      ],
      "text/plain": [
       "<IPython.core.display.Markdown object>"
      ]
     },
     "metadata": {},
     "output_type": "display_data"
    },
    {
     "data": {
      "text/markdown": [
       "**Expected Output:**\n",
       "```\n",
       "Original:\n",
       "     A     B\n",
       "0  1.0  10.0\n",
       "1  NaN  20.0\n",
       "2  3.0   NaN\n",
       "3  NaN  40.0\n",
       "4  5.0  50.0\n",
       "\n",
       "Fill with 0:\n",
       "     A     B\n",
       "0  1.0  10.0\n",
       "1  0.0  20.0\n",
       "2  3.0   0.0\n",
       "3  0.0  40.0\n",
       "4  5.0  50.0\n",
       "\n",
       "Fill with column mean:\n",
       "     A     B\n",
       "0  1.0  10.0\n",
       "1  3.0  20.0\n",
       "2  3.0  30.0\n",
       "3  3.0  40.0\n",
       "4  5.0  50.0\n",
       "\n",
       "Forward fill:\n",
       "     A     B\n",
       "0  1.0  10.0\n",
       "1  1.0  20.0\n",
       "2  3.0  20.0\n",
       "3  3.0  40.0\n",
       "4  5.0  50.0\n",
       "\n",
       "Backward fill:\n",
       "     A     B\n",
       "0  1.0  10.0\n",
       "1  3.0  20.0\n",
       "2  3.0  40.0\n",
       "3  5.0  40.0\n",
       "4  5.0  50.0\n",
       "\n",
       "```"
      ],
      "text/plain": [
       "<IPython.core.display.Markdown object>"
      ]
     },
     "metadata": {},
     "output_type": "display_data"
    },
    {
     "data": {
      "text/markdown": [
       "### 💡 Example: Different Strategies by Column"
      ],
      "text/plain": [
       "<IPython.core.display.Markdown object>"
      ]
     },
     "metadata": {},
     "output_type": "display_data"
    },
    {
     "data": {
      "text/markdown": [
       "```python\n",
       "import pandas as pd\n",
       "import numpy as np\n",
       "\n",
       "df = pd.DataFrame({\n",
       "    'Age': [25, np.nan, 35, np.nan, 45],\n",
       "    'Income': [50000, 60000, np.nan, 70000, 80000],\n",
       "    'Category': ['A', 'B', np.nan, 'A', 'B']\n",
       "})\n",
       "\n",
       "print(\"Original:\")\n",
       "print(df)\n",
       "print()\n",
       "\n",
       "# Fill numeric with mean, categorical with mode\n",
       "df_filled = df.copy()\n",
       "df_filled['Age'].fillna(df['Age'].mean(), inplace=True)\n",
       "df_filled['Income'].fillna(df['Income'].median(), inplace=True)\n",
       "df_filled['Category'].fillna(df['Category'].mode()[0], inplace=True)\n",
       "\n",
       "print(\"Filled (Age=mean, Income=median, Category=mode):\")\n",
       "print(df_filled)\n",
       "\n",
       "```"
      ],
      "text/plain": [
       "<IPython.core.display.Markdown object>"
      ]
     },
     "metadata": {},
     "output_type": "display_data"
    },
    {
     "data": {
      "text/markdown": [
       "**Expected Output:**\n",
       "```\n",
       "Original:\n",
       "    Age   Income Category\n",
       "0  25.0  50000.0        A\n",
       "1   NaN  60000.0        B\n",
       "2  35.0      NaN      NaN\n",
       "3   NaN  70000.0        A\n",
       "4  45.0  80000.0        B\n",
       "\n",
       "Filled (Age=mean, Income=median, Category=mode):\n",
       "    Age   Income Category\n",
       "0  25.0  50000.0        A\n",
       "1  35.0  60000.0        B\n",
       "2  35.0  65000.0        A\n",
       "3  35.0  70000.0        A\n",
       "4  45.0  80000.0        B\n",
       "\n",
       "```"
      ],
      "text/plain": [
       "<IPython.core.display.Markdown object>"
      ]
     },
     "metadata": {},
     "output_type": "display_data"
    },
    {
     "data": {
      "text/html": [
       "\n",
       "        <div style=\"padding: 20px; background: #fff3cd; border-left: 5px solid #ffc107;\n",
       "                    margin: 20px 0; border-radius: 5px;\">\n",
       "            <h2 style=\"margin: 0 0 15px 0; color: #856404;\">✏️ Exercise</h2>\n",
       "            <div style=\"color: #856404; line-height: 1.8; white-space: pre-wrap;\">You have sales data with missing values. Clean it by:\n",
       "\n",
       "1. Fill missing 'Quantity' values with the median\n",
       "2. Fill missing 'Product' values with 'Unknown'\n",
       "3. Drop rows where 'Price' is missing\n",
       "\n",
       "**Data has columns:** Product, Quantity, Price\n",
       "</div>\n",
       "        </div>\n",
       "        "
      ],
      "text/plain": [
       "<IPython.core.display.HTML object>"
      ]
     },
     "metadata": {},
     "output_type": "display_data"
    },
    {
     "data": {
      "text/html": [
       "\n",
       "            <div style=\"margin: 15px 0 8px 0; font-weight: bold;\">\n",
       "                📋 Setup Code (Copy and run this first):\n",
       "            </div>\n",
       "            "
      ],
      "text/plain": [
       "<IPython.core.display.HTML object>"
      ]
     },
     "metadata": {},
     "output_type": "display_data"
    },
    {
     "data": {
      "text/html": [
       "<style>pre { line-height: 125%; }\n",
       "td.linenos .normal { color: inherit; background-color: transparent; padding-left: 5px; padding-right: 5px; }\n",
       "span.linenos { color: inherit; background-color: transparent; padding-left: 5px; padding-right: 5px; }\n",
       "td.linenos .special { color: #000000; background-color: #ffffc0; padding-left: 5px; padding-right: 5px; }\n",
       "span.linenos.special { color: #000000; background-color: #ffffc0; padding-left: 5px; padding-right: 5px; }\n",
       ".output_html .hll { background-color: #ffffcc }\n",
       ".output_html { background: #f8f8f8; }\n",
       ".output_html .c { color: #3D7B7B; font-style: italic } /* Comment */\n",
       ".output_html .err { border: 1px solid #F00 } /* Error */\n",
       ".output_html .k { color: #008000; font-weight: bold } /* Keyword */\n",
       ".output_html .o { color: #666 } /* Operator */\n",
       ".output_html .ch { color: #3D7B7B; font-style: italic } /* Comment.Hashbang */\n",
       ".output_html .cm { color: #3D7B7B; font-style: italic } /* Comment.Multiline */\n",
       ".output_html .cp { color: #9C6500 } /* Comment.Preproc */\n",
       ".output_html .cpf { color: #3D7B7B; font-style: italic } /* Comment.PreprocFile */\n",
       ".output_html .c1 { color: #3D7B7B; font-style: italic } /* Comment.Single */\n",
       ".output_html .cs { color: #3D7B7B; font-style: italic } /* Comment.Special */\n",
       ".output_html .gd { color: #A00000 } /* Generic.Deleted */\n",
       ".output_html .ge { font-style: italic } /* Generic.Emph */\n",
       ".output_html .ges { font-weight: bold; font-style: italic } /* Generic.EmphStrong */\n",
       ".output_html .gr { color: #E40000 } /* Generic.Error */\n",
       ".output_html .gh { color: #000080; font-weight: bold } /* Generic.Heading */\n",
       ".output_html .gi { color: #008400 } /* Generic.Inserted */\n",
       ".output_html .go { color: #717171 } /* Generic.Output */\n",
       ".output_html .gp { color: #000080; font-weight: bold } /* Generic.Prompt */\n",
       ".output_html .gs { font-weight: bold } /* Generic.Strong */\n",
       ".output_html .gu { color: #800080; font-weight: bold } /* Generic.Subheading */\n",
       ".output_html .gt { color: #04D } /* Generic.Traceback */\n",
       ".output_html .kc { color: #008000; font-weight: bold } /* Keyword.Constant */\n",
       ".output_html .kd { color: #008000; font-weight: bold } /* Keyword.Declaration */\n",
       ".output_html .kn { color: #008000; font-weight: bold } /* Keyword.Namespace */\n",
       ".output_html .kp { color: #008000 } /* Keyword.Pseudo */\n",
       ".output_html .kr { color: #008000; font-weight: bold } /* Keyword.Reserved */\n",
       ".output_html .kt { color: #B00040 } /* Keyword.Type */\n",
       ".output_html .m { color: #666 } /* Literal.Number */\n",
       ".output_html .s { color: #BA2121 } /* Literal.String */\n",
       ".output_html .na { color: #687822 } /* Name.Attribute */\n",
       ".output_html .nb { color: #008000 } /* Name.Builtin */\n",
       ".output_html .nc { color: #00F; font-weight: bold } /* Name.Class */\n",
       ".output_html .no { color: #800 } /* Name.Constant */\n",
       ".output_html .nd { color: #A2F } /* Name.Decorator */\n",
       ".output_html .ni { color: #717171; font-weight: bold } /* Name.Entity */\n",
       ".output_html .ne { color: #CB3F38; font-weight: bold } /* Name.Exception */\n",
       ".output_html .nf { color: #00F } /* Name.Function */\n",
       ".output_html .nl { color: #767600 } /* Name.Label */\n",
       ".output_html .nn { color: #00F; font-weight: bold } /* Name.Namespace */\n",
       ".output_html .nt { color: #008000; font-weight: bold } /* Name.Tag */\n",
       ".output_html .nv { color: #19177C } /* Name.Variable */\n",
       ".output_html .ow { color: #A2F; font-weight: bold } /* Operator.Word */\n",
       ".output_html .w { color: #BBB } /* Text.Whitespace */\n",
       ".output_html .mb { color: #666 } /* Literal.Number.Bin */\n",
       ".output_html .mf { color: #666 } /* Literal.Number.Float */\n",
       ".output_html .mh { color: #666 } /* Literal.Number.Hex */\n",
       ".output_html .mi { color: #666 } /* Literal.Number.Integer */\n",
       ".output_html .mo { color: #666 } /* Literal.Number.Oct */\n",
       ".output_html .sa { color: #BA2121 } /* Literal.String.Affix */\n",
       ".output_html .sb { color: #BA2121 } /* Literal.String.Backtick */\n",
       ".output_html .sc { color: #BA2121 } /* Literal.String.Char */\n",
       ".output_html .dl { color: #BA2121 } /* Literal.String.Delimiter */\n",
       ".output_html .sd { color: #BA2121; font-style: italic } /* Literal.String.Doc */\n",
       ".output_html .s2 { color: #BA2121 } /* Literal.String.Double */\n",
       ".output_html .se { color: #AA5D1F; font-weight: bold } /* Literal.String.Escape */\n",
       ".output_html .sh { color: #BA2121 } /* Literal.String.Heredoc */\n",
       ".output_html .si { color: #A45A77; font-weight: bold } /* Literal.String.Interpol */\n",
       ".output_html .sx { color: #008000 } /* Literal.String.Other */\n",
       ".output_html .sr { color: #A45A77 } /* Literal.String.Regex */\n",
       ".output_html .s1 { color: #BA2121 } /* Literal.String.Single */\n",
       ".output_html .ss { color: #19177C } /* Literal.String.Symbol */\n",
       ".output_html .bp { color: #008000 } /* Name.Builtin.Pseudo */\n",
       ".output_html .fm { color: #00F } /* Name.Function.Magic */\n",
       ".output_html .vc { color: #19177C } /* Name.Variable.Class */\n",
       ".output_html .vg { color: #19177C } /* Name.Variable.Global */\n",
       ".output_html .vi { color: #19177C } /* Name.Variable.Instance */\n",
       ".output_html .vm { color: #19177C } /* Name.Variable.Magic */\n",
       ".output_html .il { color: #666 } /* Literal.Number.Integer.Long */</style><div class=\"highlight\"><pre><span></span><span class=\"kn\">import</span><span class=\"w\"> </span><span class=\"nn\">pandas</span><span class=\"w\"> </span><span class=\"k\">as</span><span class=\"w\"> </span><span class=\"nn\">pd</span>\n",
       "<span class=\"kn\">import</span><span class=\"w\"> </span><span class=\"nn\">numpy</span><span class=\"w\"> </span><span class=\"k\">as</span><span class=\"w\"> </span><span class=\"nn\">np</span>\n",
       "\n",
       "<span class=\"n\">df</span> <span class=\"o\">=</span> <span class=\"n\">pd</span><span class=\"o\">.</span><span class=\"n\">DataFrame</span><span class=\"p\">({</span>\n",
       "    <span class=\"s1\">&#39;Product&#39;</span><span class=\"p\">:</span> <span class=\"p\">[</span><span class=\"s1\">&#39;A&#39;</span><span class=\"p\">,</span> <span class=\"s1\">&#39;B&#39;</span><span class=\"p\">,</span> <span class=\"n\">np</span><span class=\"o\">.</span><span class=\"n\">nan</span><span class=\"p\">,</span> <span class=\"s1\">&#39;D&#39;</span><span class=\"p\">,</span> <span class=\"s1\">&#39;E&#39;</span><span class=\"p\">],</span>\n",
       "    <span class=\"s1\">&#39;Quantity&#39;</span><span class=\"p\">:</span> <span class=\"p\">[</span><span class=\"mi\">10</span><span class=\"p\">,</span> <span class=\"n\">np</span><span class=\"o\">.</span><span class=\"n\">nan</span><span class=\"p\">,</span> <span class=\"mi\">15</span><span class=\"p\">,</span> <span class=\"n\">np</span><span class=\"o\">.</span><span class=\"n\">nan</span><span class=\"p\">,</span> <span class=\"mi\">20</span><span class=\"p\">],</span>\n",
       "    <span class=\"s1\">&#39;Price&#39;</span><span class=\"p\">:</span> <span class=\"p\">[</span><span class=\"mi\">100</span><span class=\"p\">,</span> <span class=\"mi\">200</span><span class=\"p\">,</span> <span class=\"n\">np</span><span class=\"o\">.</span><span class=\"n\">nan</span><span class=\"p\">,</span> <span class=\"mi\">400</span><span class=\"p\">,</span> <span class=\"mi\">500</span><span class=\"p\">]</span>\n",
       "<span class=\"p\">})</span>\n",
       "</pre></div>\n"
      ],
      "text/latex": [
       "\\begin{Verbatim}[commandchars=\\\\\\{\\}]\n",
       "\\PY{k+kn}{import}\\PY{+w}{ }\\PY{n+nn}{pandas}\\PY{+w}{ }\\PY{k}{as}\\PY{+w}{ }\\PY{n+nn}{pd}\n",
       "\\PY{k+kn}{import}\\PY{+w}{ }\\PY{n+nn}{numpy}\\PY{+w}{ }\\PY{k}{as}\\PY{+w}{ }\\PY{n+nn}{np}\n",
       "\n",
       "\\PY{n}{df} \\PY{o}{=} \\PY{n}{pd}\\PY{o}{.}\\PY{n}{DataFrame}\\PY{p}{(}\\PY{p}{\\PYZob{}}\n",
       "    \\PY{l+s+s1}{\\PYZsq{}}\\PY{l+s+s1}{Product}\\PY{l+s+s1}{\\PYZsq{}}\\PY{p}{:} \\PY{p}{[}\\PY{l+s+s1}{\\PYZsq{}}\\PY{l+s+s1}{A}\\PY{l+s+s1}{\\PYZsq{}}\\PY{p}{,} \\PY{l+s+s1}{\\PYZsq{}}\\PY{l+s+s1}{B}\\PY{l+s+s1}{\\PYZsq{}}\\PY{p}{,} \\PY{n}{np}\\PY{o}{.}\\PY{n}{nan}\\PY{p}{,} \\PY{l+s+s1}{\\PYZsq{}}\\PY{l+s+s1}{D}\\PY{l+s+s1}{\\PYZsq{}}\\PY{p}{,} \\PY{l+s+s1}{\\PYZsq{}}\\PY{l+s+s1}{E}\\PY{l+s+s1}{\\PYZsq{}}\\PY{p}{]}\\PY{p}{,}\n",
       "    \\PY{l+s+s1}{\\PYZsq{}}\\PY{l+s+s1}{Quantity}\\PY{l+s+s1}{\\PYZsq{}}\\PY{p}{:} \\PY{p}{[}\\PY{l+m+mi}{10}\\PY{p}{,} \\PY{n}{np}\\PY{o}{.}\\PY{n}{nan}\\PY{p}{,} \\PY{l+m+mi}{15}\\PY{p}{,} \\PY{n}{np}\\PY{o}{.}\\PY{n}{nan}\\PY{p}{,} \\PY{l+m+mi}{20}\\PY{p}{]}\\PY{p}{,}\n",
       "    \\PY{l+s+s1}{\\PYZsq{}}\\PY{l+s+s1}{Price}\\PY{l+s+s1}{\\PYZsq{}}\\PY{p}{:} \\PY{p}{[}\\PY{l+m+mi}{100}\\PY{p}{,} \\PY{l+m+mi}{200}\\PY{p}{,} \\PY{n}{np}\\PY{o}{.}\\PY{n}{nan}\\PY{p}{,} \\PY{l+m+mi}{400}\\PY{p}{,} \\PY{l+m+mi}{500}\\PY{p}{]}\n",
       "\\PY{p}{\\PYZcb{}}\\PY{p}{)}\n",
       "\\end{Verbatim}\n"
      ],
      "text/plain": [
       "import pandas as pd\n",
       "import numpy as np\n",
       "\n",
       "df = pd.DataFrame({\n",
       "    'Product': ['A', 'B', np.nan, 'D', 'E'],\n",
       "    'Quantity': [10, np.nan, 15, np.nan, 20],\n",
       "    'Price': [100, 200, np.nan, 400, 500]\n",
       "})"
      ]
     },
     "metadata": {},
     "output_type": "display_data"
    },
    {
     "data": {
      "text/html": [
       "\n",
       "        <div style=\"margin: 20px 0 8px 0; font-weight: bold;\">\n",
       "            ✍️ Your Solution (Copy the starter code below):\n",
       "        </div>\n",
       "        "
      ],
      "text/plain": [
       "<IPython.core.display.HTML object>"
      ]
     },
     "metadata": {},
     "output_type": "display_data"
    },
    {
     "data": {
      "text/html": [
       "<style>pre { line-height: 125%; }\n",
       "td.linenos .normal { color: inherit; background-color: transparent; padding-left: 5px; padding-right: 5px; }\n",
       "span.linenos { color: inherit; background-color: transparent; padding-left: 5px; padding-right: 5px; }\n",
       "td.linenos .special { color: #000000; background-color: #ffffc0; padding-left: 5px; padding-right: 5px; }\n",
       "span.linenos.special { color: #000000; background-color: #ffffc0; padding-left: 5px; padding-right: 5px; }\n",
       ".output_html .hll { background-color: #ffffcc }\n",
       ".output_html { background: #f8f8f8; }\n",
       ".output_html .c { color: #3D7B7B; font-style: italic } /* Comment */\n",
       ".output_html .err { border: 1px solid #F00 } /* Error */\n",
       ".output_html .k { color: #008000; font-weight: bold } /* Keyword */\n",
       ".output_html .o { color: #666 } /* Operator */\n",
       ".output_html .ch { color: #3D7B7B; font-style: italic } /* Comment.Hashbang */\n",
       ".output_html .cm { color: #3D7B7B; font-style: italic } /* Comment.Multiline */\n",
       ".output_html .cp { color: #9C6500 } /* Comment.Preproc */\n",
       ".output_html .cpf { color: #3D7B7B; font-style: italic } /* Comment.PreprocFile */\n",
       ".output_html .c1 { color: #3D7B7B; font-style: italic } /* Comment.Single */\n",
       ".output_html .cs { color: #3D7B7B; font-style: italic } /* Comment.Special */\n",
       ".output_html .gd { color: #A00000 } /* Generic.Deleted */\n",
       ".output_html .ge { font-style: italic } /* Generic.Emph */\n",
       ".output_html .ges { font-weight: bold; font-style: italic } /* Generic.EmphStrong */\n",
       ".output_html .gr { color: #E40000 } /* Generic.Error */\n",
       ".output_html .gh { color: #000080; font-weight: bold } /* Generic.Heading */\n",
       ".output_html .gi { color: #008400 } /* Generic.Inserted */\n",
       ".output_html .go { color: #717171 } /* Generic.Output */\n",
       ".output_html .gp { color: #000080; font-weight: bold } /* Generic.Prompt */\n",
       ".output_html .gs { font-weight: bold } /* Generic.Strong */\n",
       ".output_html .gu { color: #800080; font-weight: bold } /* Generic.Subheading */\n",
       ".output_html .gt { color: #04D } /* Generic.Traceback */\n",
       ".output_html .kc { color: #008000; font-weight: bold } /* Keyword.Constant */\n",
       ".output_html .kd { color: #008000; font-weight: bold } /* Keyword.Declaration */\n",
       ".output_html .kn { color: #008000; font-weight: bold } /* Keyword.Namespace */\n",
       ".output_html .kp { color: #008000 } /* Keyword.Pseudo */\n",
       ".output_html .kr { color: #008000; font-weight: bold } /* Keyword.Reserved */\n",
       ".output_html .kt { color: #B00040 } /* Keyword.Type */\n",
       ".output_html .m { color: #666 } /* Literal.Number */\n",
       ".output_html .s { color: #BA2121 } /* Literal.String */\n",
       ".output_html .na { color: #687822 } /* Name.Attribute */\n",
       ".output_html .nb { color: #008000 } /* Name.Builtin */\n",
       ".output_html .nc { color: #00F; font-weight: bold } /* Name.Class */\n",
       ".output_html .no { color: #800 } /* Name.Constant */\n",
       ".output_html .nd { color: #A2F } /* Name.Decorator */\n",
       ".output_html .ni { color: #717171; font-weight: bold } /* Name.Entity */\n",
       ".output_html .ne { color: #CB3F38; font-weight: bold } /* Name.Exception */\n",
       ".output_html .nf { color: #00F } /* Name.Function */\n",
       ".output_html .nl { color: #767600 } /* Name.Label */\n",
       ".output_html .nn { color: #00F; font-weight: bold } /* Name.Namespace */\n",
       ".output_html .nt { color: #008000; font-weight: bold } /* Name.Tag */\n",
       ".output_html .nv { color: #19177C } /* Name.Variable */\n",
       ".output_html .ow { color: #A2F; font-weight: bold } /* Operator.Word */\n",
       ".output_html .w { color: #BBB } /* Text.Whitespace */\n",
       ".output_html .mb { color: #666 } /* Literal.Number.Bin */\n",
       ".output_html .mf { color: #666 } /* Literal.Number.Float */\n",
       ".output_html .mh { color: #666 } /* Literal.Number.Hex */\n",
       ".output_html .mi { color: #666 } /* Literal.Number.Integer */\n",
       ".output_html .mo { color: #666 } /* Literal.Number.Oct */\n",
       ".output_html .sa { color: #BA2121 } /* Literal.String.Affix */\n",
       ".output_html .sb { color: #BA2121 } /* Literal.String.Backtick */\n",
       ".output_html .sc { color: #BA2121 } /* Literal.String.Char */\n",
       ".output_html .dl { color: #BA2121 } /* Literal.String.Delimiter */\n",
       ".output_html .sd { color: #BA2121; font-style: italic } /* Literal.String.Doc */\n",
       ".output_html .s2 { color: #BA2121 } /* Literal.String.Double */\n",
       ".output_html .se { color: #AA5D1F; font-weight: bold } /* Literal.String.Escape */\n",
       ".output_html .sh { color: #BA2121 } /* Literal.String.Heredoc */\n",
       ".output_html .si { color: #A45A77; font-weight: bold } /* Literal.String.Interpol */\n",
       ".output_html .sx { color: #008000 } /* Literal.String.Other */\n",
       ".output_html .sr { color: #A45A77 } /* Literal.String.Regex */\n",
       ".output_html .s1 { color: #BA2121 } /* Literal.String.Single */\n",
       ".output_html .ss { color: #19177C } /* Literal.String.Symbol */\n",
       ".output_html .bp { color: #008000 } /* Name.Builtin.Pseudo */\n",
       ".output_html .fm { color: #00F } /* Name.Function.Magic */\n",
       ".output_html .vc { color: #19177C } /* Name.Variable.Class */\n",
       ".output_html .vg { color: #19177C } /* Name.Variable.Global */\n",
       ".output_html .vi { color: #19177C } /* Name.Variable.Instance */\n",
       ".output_html .vm { color: #19177C } /* Name.Variable.Magic */\n",
       ".output_html .il { color: #666 } /* Literal.Number.Integer.Long */</style><div class=\"highlight\"><pre><span></span><span class=\"c1\"># Your code here</span>\n",
       "<span class=\"n\">result</span> <span class=\"o\">=</span>\n",
       "</pre></div>\n"
      ],
      "text/latex": [
       "\\begin{Verbatim}[commandchars=\\\\\\{\\}]\n",
       "\\PY{c+c1}{\\PYZsh{} Your code here}\n",
       "\\PY{n}{result} \\PY{o}{=}\n",
       "\\end{Verbatim}\n"
      ],
      "text/plain": [
       "# Your code here\n",
       "result ="
      ]
     },
     "metadata": {},
     "output_type": "display_data"
    },
    {
     "data": {
      "text/html": [
       "\n",
       "        <div style=\"padding: 15px; background: #e7f3ff; border-left: 4px solid #2196f3;\n",
       "                    margin: 15px 0; border-radius: 5px;\">\n",
       "            <h4 style=\"margin: 0 0 10px 0; color: #1565c0;\">📝 How to Complete This Exercise:</h4>\n",
       "            <ol style=\"margin: 5px 0; padding-left: 20px; color: #1565c0;\">\n",
       "                <li>Create a new code cell below (Click \"+ Code\" or press B)</li>\n",
       "                <li>Copy the starter code above into your cell</li>\n",
       "                <li>Complete the exercise</li>\n",
       "                <li>Run your code to test it</li>\n",
       "                <li>Use <code>%dstutor check</code> to validate your solution ✅</li>\n",
       "                <li>Use <code>%dstutor hint</code> if you need help</li>\n",
       "                <li>Use <code>%dstutor solution</code> to see the answer</li>\n",
       "                <li>Use <code>%dstutor next</code> when ready to continue</li>\n",
       "            </ol>\n",
       "        </div>\n",
       "        "
      ],
      "text/plain": [
       "<IPython.core.display.HTML object>"
      ]
     },
     "metadata": {},
     "output_type": "display_data"
    },
    {
     "data": {
      "text/html": [
       "\n",
       "        <div style=\"padding: 15px; background: #f8f9fa; border-radius: 8px; margin: 20px 0; border: 2px solid #dee2e6;\">\n",
       "            <h3 style=\"margin: 0 0 10px 0; color: #495057;\">📌 Navigation Commands</h3>\n",
       "            <div style=\"display: grid; grid-template-columns: repeat(auto-fit, minmax(200px, 1fr)); gap: 10px; font-family: monospace;\">\n",
       "                <div style=\"padding: 8px; background: white; border-radius: 4px;\">\n",
       "                    <code>%dstutor next</code> → Next lesson\n",
       "                </div>\n",
       "                <div style=\"padding: 8px; background: white; border-radius: 4px;\">\n",
       "                    <code>%dstutor previous</code> → Previous lesson\n",
       "                </div>\n",
       "                <div style=\"padding: 8px; background: white; border-radius: 4px;\">\n",
       "                    <code>%dstutor hint</code> → Get a hint\n",
       "                </div>\n",
       "                <div style=\"padding: 8px; background: white; border-radius: 4px;\">\n",
       "                    <code>%dstutor solution</code> → Show solution\n",
       "                </div>\n",
       "            </div>\n",
       "        </div>\n",
       "        "
      ],
      "text/plain": [
       "<IPython.core.display.HTML object>"
      ]
     },
     "metadata": {},
     "output_type": "display_data"
    }
   ],
   "source": [
    "%dstutor next"
   ]
  },
  {
   "cell_type": "code",
   "execution_count": 8,
   "metadata": {},
   "outputs": [],
   "source": [
    "import pandas as pd\n",
    "result = pd.DataFrame()"
   ]
  },
  {
   "cell_type": "markdown",
   "metadata": {},
   "source": [
    "The lesson content will appear above! 📚\n",
    "\n",
    "Read through the explanation and examples, then try the exercise below."
   ]
  },
  {
   "cell_type": "markdown",
   "metadata": {},
   "source": [
    "## Step 5: Try the Exercise\n",
    "\n",
    "Now it's your turn! Write code to solve the exercise.\n",
    "\n",
    "**Exercise:** Create a NumPy array with values [10, 20, 30, 40, 50]"
   ]
  },
  {
   "cell_type": "code",
   "execution_count": 9,
   "metadata": {},
   "outputs": [],
   "source": [
    "# Your code here\n",
    "import numpy as np\n",
    "\n",
    "result = np.array([10, 20, 30, 40, 50])"
   ]
  },
  {
   "cell_type": "markdown",
   "metadata": {},
   "source": [
    "When you run the cell above, DS-Tutor will automatically validate your solution and give you feedback!"
   ]
  },
  {
   "cell_type": "markdown",
   "metadata": {},
   "source": [
    "## Getting Help\n",
    "\n",
    "### Need a hint?\n",
    "\n",
    "If you're stuck, get a hint:"
   ]
  },
  {
   "cell_type": "code",
   "execution_count": 10,
   "metadata": {},
   "outputs": [
    {
     "data": {
      "text/html": [
       "\n",
       "        <div style=\"padding: 20px; background: #fff3cd; border: 2px solid #ffc107; border-radius: 8px; margin: 15px 0;\">\n",
       "            <h3 style=\"color: #856404; margin: 0 0 10px 0;\">💡 Hint (Level 1/3) ⭐</h3>\n",
       "            <p style=\"color: #856404; margin: 0; line-height: 1.6;\">Pandas hint</p>\n",
       "            <p style=\"color: #856404; margin: 15px 0 0 0; font-size: 0.9em;\">\n",
       "                2 more hints available - use <code>%dstutor hint 2</code>\n",
       "            </p>\n",
       "        </div>\n",
       "        "
      ],
      "text/plain": [
       "<IPython.core.display.HTML object>"
      ]
     },
     "metadata": {},
     "output_type": "display_data"
    }
   ],
   "source": [
    "%dstutor hint"
   ]
  },
  {
   "cell_type": "markdown",
   "metadata": {},
   "source": [
    "### Need more help?"
   ]
  },
  {
   "cell_type": "code",
   "execution_count": 11,
   "metadata": {},
   "outputs": [
    {
     "data": {
      "text/html": [
       "<div style=\"color: #f0ad4e;\">⚠️ No hint available for current exercise</div>"
      ],
      "text/plain": [
       "<IPython.core.display.HTML object>"
      ]
     },
     "metadata": {},
     "output_type": "display_data"
    }
   ],
   "source": [
    "%dstutor hint 2  # More specific hint"
   ]
  },
  {
   "cell_type": "markdown",
   "metadata": {},
   "source": [
    "### Want to see the solution?"
   ]
  },
  {
   "cell_type": "code",
   "execution_count": 12,
   "metadata": {},
   "outputs": [
    {
     "data": {
      "text/html": [
       "\n",
       "        <div style=\"padding: 20px; background: #d1ecf1; border: 2px solid #17a2b8; border-radius: 8px; margin: 15px 0;\">\n",
       "            <h3 style=\"color: #0c5460; margin: 0 0 15px 0;\">📝 Solution</h3>\n",
       "            <pre style=\"background: #fff; padding: 15px; border-radius: 5px; overflow-x: auto; color: #0c5460;\"><code>result = pd.DataFrame()</code></pre>\n",
       "            <p style=\"color: #0c5460; margin: 15px 0 0 0; font-style: italic;\">\n",
       "                Study the solution and try to understand the approach.\n",
       "                You can continue to the next lesson when ready!\n",
       "            </p>\n",
       "        </div>\n",
       "        "
      ],
      "text/plain": [
       "<IPython.core.display.HTML object>"
      ]
     },
     "metadata": {},
     "output_type": "display_data"
    }
   ],
   "source": [
    "%dstutor solution"
   ]
  },
  {
   "cell_type": "markdown",
   "metadata": {},
   "source": [
    "## Navigation\n",
    "\n",
    "### Move to the next lesson:"
   ]
  },
  {
   "cell_type": "code",
   "execution_count": 13,
   "metadata": {},
   "outputs": [
    {
     "data": {
      "text/markdown": [
       "# Pandas - Lesson 3\n",
       "\n",
       "Learn Pandas data manipulation."
      ],
      "text/plain": [
       "<IPython.core.display.Markdown object>"
      ]
     },
     "metadata": {},
     "output_type": "display_data"
    },
    {
     "data": {
      "text/markdown": [
       "Pandas concepts here..."
      ],
      "text/plain": [
       "<IPython.core.display.Markdown object>"
      ]
     },
     "metadata": {},
     "output_type": "display_data"
    },
    {
     "data": {
      "text/markdown": [
       "\n",
       "---\n",
       "\n",
       "## ✏️ Exercise\n",
       "\n",
       "Complete the Pandas exercise\n",
       "\n",
       "**Setup Code** (Run this first):\n"
      ],
      "text/plain": [
       "<IPython.core.display.Markdown object>"
      ]
     },
     "metadata": {},
     "output_type": "display_data"
    },
    {
     "data": {
      "text/markdown": [
       "```python\n",
       "import pandas as pd\n",
       "```"
      ],
      "text/plain": [
       "<IPython.core.display.Markdown object>"
      ]
     },
     "metadata": {},
     "output_type": "display_data"
    },
    {
     "data": {
      "text/markdown": [
       "\n",
       "**Your Solution:**\n",
       "\n",
       "```python\\n# Your code here\\n```\n",
       "\n",
       "---\n",
       "💡 **Tip:** Use `%dstutor hint` if you need help!\n"
      ],
      "text/plain": [
       "<IPython.core.display.Markdown object>"
      ]
     },
     "metadata": {},
     "output_type": "display_data"
    },
    {
     "data": {
      "text/html": [
       "\n",
       "        <div style=\"padding: 20px; background: linear-gradient(135deg, #667eea 0%, #764ba2 100%);\n",
       "                    color: white; border-radius: 10px; margin: 15px 0; box-shadow: 0 3px 5px rgba(0,0,0,0.1);\">\n",
       "            <h3 style=\"margin: 0 0 8px 0;\">📚 Pandas - Pandas Lesson 3</h3>\n",
       "            <p style=\"margin: 5px 0; opacity: 0.9;\">\n",
       "                Lesson 3 of 5 •\n",
       "                Level: Beginner •\n",
       "                Duration: 15 min\n",
       "            </p>\n",
       "            <div style=\"background: rgba(255,255,255,0.2); height: 8px; border-radius: 4px; margin-top: 12px; overflow: hidden;\">\n",
       "                <div style=\"background: white; height: 100%; width: 60.0%; border-radius: 4px; transition: width 0.3s;\"></div>\n",
       "            </div>\n",
       "        </div>\n",
       "        "
      ],
      "text/plain": [
       "<IPython.core.display.HTML object>"
      ]
     },
     "metadata": {},
     "output_type": "display_data"
    },
    {
     "data": {
      "application/vnd.jupyter.widget-view+json": {
       "model_id": "9651dea7753d4285b2cb8df2738d0728",
       "version_major": 2,
       "version_minor": 0
      },
      "text/plain": [
       "HBox(children=(Button(button_style='info', description='◄ Previous', layout=Layout(width='auto'), style=Button…"
      ]
     },
     "metadata": {},
     "output_type": "display_data"
    },
    {
     "data": {
      "application/vnd.jupyter.widget-view+json": {
       "model_id": "6021b71172284bf186e7c4826152cff9",
       "version_major": 2,
       "version_minor": 0
      },
      "text/plain": [
       "Output()"
      ]
     },
     "metadata": {},
     "output_type": "display_data"
    }
   ],
   "source": [
    "%dstutor next"
   ]
  },
  {
   "cell_type": "markdown",
   "metadata": {},
   "source": [
    "### Go back to the previous lesson:"
   ]
  },
  {
   "cell_type": "code",
   "execution_count": 14,
   "metadata": {},
   "outputs": [
    {
     "data": {
      "text/markdown": [
       "# Pandas - Lesson 2\n",
       "\n",
       "Learn Pandas data manipulation."
      ],
      "text/plain": [
       "<IPython.core.display.Markdown object>"
      ]
     },
     "metadata": {},
     "output_type": "display_data"
    },
    {
     "data": {
      "text/markdown": [
       "Pandas concepts here..."
      ],
      "text/plain": [
       "<IPython.core.display.Markdown object>"
      ]
     },
     "metadata": {},
     "output_type": "display_data"
    },
    {
     "data": {
      "text/markdown": [
       "\n",
       "---\n",
       "\n",
       "## ✏️ Exercise\n",
       "\n",
       "Complete the Pandas exercise\n",
       "\n",
       "**Setup Code** (Run this first):\n"
      ],
      "text/plain": [
       "<IPython.core.display.Markdown object>"
      ]
     },
     "metadata": {},
     "output_type": "display_data"
    },
    {
     "data": {
      "text/markdown": [
       "```python\n",
       "import pandas as pd\n",
       "```"
      ],
      "text/plain": [
       "<IPython.core.display.Markdown object>"
      ]
     },
     "metadata": {},
     "output_type": "display_data"
    },
    {
     "data": {
      "text/markdown": [
       "\n",
       "**Your Solution:**\n",
       "\n",
       "```python\\n# Your code here\\n```\n",
       "\n",
       "---\n",
       "💡 **Tip:** Use `%dstutor hint` if you need help!\n"
      ],
      "text/plain": [
       "<IPython.core.display.Markdown object>"
      ]
     },
     "metadata": {},
     "output_type": "display_data"
    },
    {
     "data": {
      "text/html": [
       "\n",
       "        <div style=\"padding: 20px; background: linear-gradient(135deg, #667eea 0%, #764ba2 100%);\n",
       "                    color: white; border-radius: 10px; margin: 15px 0; box-shadow: 0 3px 5px rgba(0,0,0,0.1);\">\n",
       "            <h3 style=\"margin: 0 0 8px 0;\">📚 Pandas - Pandas Lesson 2</h3>\n",
       "            <p style=\"margin: 5px 0; opacity: 0.9;\">\n",
       "                Lesson 2 of 5 •\n",
       "                Level: Beginner •\n",
       "                Duration: 15 min\n",
       "            </p>\n",
       "            <div style=\"background: rgba(255,255,255,0.2); height: 8px; border-radius: 4px; margin-top: 12px; overflow: hidden;\">\n",
       "                <div style=\"background: white; height: 100%; width: 40.0%; border-radius: 4px; transition: width 0.3s;\"></div>\n",
       "            </div>\n",
       "        </div>\n",
       "        "
      ],
      "text/plain": [
       "<IPython.core.display.HTML object>"
      ]
     },
     "metadata": {},
     "output_type": "display_data"
    },
    {
     "data": {
      "application/vnd.jupyter.widget-view+json": {
       "model_id": "8d657387ce774edeb24c7cf93fba7d78",
       "version_major": 2,
       "version_minor": 0
      },
      "text/plain": [
       "HBox(children=(Button(button_style='info', description='◄ Previous', layout=Layout(width='auto'), style=Button…"
      ]
     },
     "metadata": {},
     "output_type": "display_data"
    },
    {
     "data": {
      "application/vnd.jupyter.widget-view+json": {
       "model_id": "73feeaa99f514a9abded904f618effaf",
       "version_major": 2,
       "version_minor": 0
      },
      "text/plain": [
       "Output()"
      ]
     },
     "metadata": {},
     "output_type": "display_data"
    }
   ],
   "source": [
    "%dstutor previous"
   ]
  },
  {
   "cell_type": "markdown",
   "metadata": {},
   "source": [
    "## Track Your Progress\n",
    "\n",
    "View your learning progress:"
   ]
  },
  {
   "cell_type": "code",
   "execution_count": 15,
   "metadata": {},
   "outputs": [
    {
     "data": {
      "text/html": [
       "\n",
       "        <div style=\"padding: 25px; background: #f8f9fa; border-radius: 10px; margin: 20px 0;\n",
       "                    box-shadow: 0 2px 4px rgba(0,0,0,0.1);\">\n",
       "            <h2 style=\"margin: 0 0 20px 0; color: #333;\">🎯 Your Progress</h2>\n",
       "\n",
       "            <div style=\"background: white; padding: 20px; border-radius: 8px; margin-bottom: 20px;\">\n",
       "                <h3 style=\"margin: 0 0 15px 0; color: #666;\">📊 Overall Stats</h3>\n",
       "                <div style=\"display: grid; grid-template-columns: repeat(auto-fit, minmax(200px, 1fr)); gap: 15px;\">\n",
       "                    <div style=\"padding: 15px; background: #e3f2fd; border-radius: 5px;\">\n",
       "                        <div style=\"font-size: 2em; font-weight: bold; color: #1976d2;\">4</div>\n",
       "                        <div style=\"color: #666;\">Lessons Completed</div>\n",
       "                    </div>\n",
       "                    <div style=\"padding: 15px; background: #e8f5e9; border-radius: 5px;\">\n",
       "                        <div style=\"font-size: 2em; font-weight: bold; color: #388e3c;\">0</div>\n",
       "                        <div style=\"color: #666;\">Exercises Solved</div>\n",
       "                    </div>\n",
       "                    <div style=\"padding: 15px; background: #fff3e0; border-radius: 5px;\">\n",
       "                        <div style=\"font-size: 2em; font-weight: bold; color: #f57c00;\">0%</div>\n",
       "                        <div style=\"color: #666;\">Accuracy</div>\n",
       "                    </div>\n",
       "                </div>\n",
       "            </div>\n",
       "\n",
       "            <div style=\"background: white; padding: 20px; border-radius: 8px;\">\n",
       "                <h3 style=\"margin: 0 0 15px 0; color: #666;\">📚 Topic Progress</h3>\n",
       "                \n",
       "            <div style=\"margin-bottom: 15px;\">\n",
       "                <div style=\"display: flex; justify-content: space-between; margin-bottom: 5px;\">\n",
       "                    <span style=\"font-weight: 500;\">✅ Python Fundamentals</span>\n",
       "                    <span style=\"color: #28a745; font-weight: bold;\">100%</span>\n",
       "                </div>\n",
       "                <div style=\"background: #e9ecef; height: 10px; border-radius: 5px; overflow: hidden;\">\n",
       "                    <div style=\"background: #28a745; height: 100%; width: 100%;\n",
       "                               border-radius: 5px; transition: width 0.3s;\"></div>\n",
       "                </div>\n",
       "            </div>\n",
       "            \n",
       "            <div style=\"margin-bottom: 15px;\">\n",
       "                <div style=\"display: flex; justify-content: space-between; margin-bottom: 5px;\">\n",
       "                    <span style=\"font-weight: 500;\">✅ NumPy Mastery</span>\n",
       "                    <span style=\"color: #28a745; font-weight: bold;\">100%</span>\n",
       "                </div>\n",
       "                <div style=\"background: #e9ecef; height: 10px; border-radius: 5px; overflow: hidden;\">\n",
       "                    <div style=\"background: #28a745; height: 100%; width: 100%;\n",
       "                               border-radius: 5px; transition: width 0.3s;\"></div>\n",
       "                </div>\n",
       "            </div>\n",
       "            \n",
       "            <div style=\"margin-bottom: 15px;\">\n",
       "                <div style=\"display: flex; justify-content: space-between; margin-bottom: 5px;\">\n",
       "                    <span style=\"font-weight: 500;\">🔄 Pandas Deep Dive</span>\n",
       "                    <span style=\"color: #007bff; font-weight: bold;\">65%</span>\n",
       "                </div>\n",
       "                <div style=\"background: #e9ecef; height: 10px; border-radius: 5px; overflow: hidden;\">\n",
       "                    <div style=\"background: #007bff; height: 100%; width: 65%;\n",
       "                               border-radius: 5px; transition: width 0.3s;\"></div>\n",
       "                </div>\n",
       "            </div>\n",
       "            \n",
       "            <div style=\"margin-bottom: 15px;\">\n",
       "                <div style=\"display: flex; justify-content: space-between; margin-bottom: 5px;\">\n",
       "                    <span style=\"font-weight: 500;\">🔒 Matplotlib & Seaborn</span>\n",
       "                    <span style=\"color: #6c757d; font-weight: bold;\">0%</span>\n",
       "                </div>\n",
       "                <div style=\"background: #e9ecef; height: 10px; border-radius: 5px; overflow: hidden;\">\n",
       "                    <div style=\"background: #6c757d; height: 100%; width: 0%;\n",
       "                               border-radius: 5px; transition: width 0.3s;\"></div>\n",
       "                </div>\n",
       "            </div>\n",
       "            \n",
       "            </div>\n",
       "        </div>\n",
       "        "
      ],
      "text/plain": [
       "<IPython.core.display.HTML object>"
      ]
     },
     "metadata": {},
     "output_type": "display_data"
    }
   ],
   "source": [
    "%dstutor progress"
   ]
  },
  {
   "cell_type": "markdown",
   "metadata": {},
   "source": [
    "## All Available Commands\n",
    "\n",
    "Get a complete list of commands:"
   ]
  },
  {
   "cell_type": "code",
   "execution_count": 19,
   "metadata": {},
   "outputs": [
    {
     "data": {
      "text/html": [
       "\n",
       "        <div style=\"padding: 15px; background: #f8f9fa; border-radius: 5px; font-family: monospace;\">\n",
       "            <h3 style=\"margin-top: 0;\">🎓 DS-Tutor Commands</h3>\n",
       "            <table style=\"width: 100%;\">\n",
       "                <tr><td><code>%dstutor init</code></td><td>Initialize the tutor</td></tr>\n",
       "                <tr><td><code>%dstutor start &lt;topic&gt;</code></td><td>Start learning a topic</td></tr>\n",
       "                <tr><td><code>%dstutor next</code></td><td>Go to next lesson</td></tr>\n",
       "                <tr><td><code>%dstutor previous</code></td><td>Go to previous lesson</td></tr>\n",
       "                <tr><td><code>%dstutor hint [level]</code></td><td>Get a hint (levels 1-3)</td></tr>\n",
       "                <tr><td><code>%dstutor solution</code></td><td>Show solution</td></tr>\n",
       "                <tr><td><code>%dstutor progress</code></td><td>Show progress dashboard</td></tr>\n",
       "                <tr><td><code>%dstutor topics</code></td><td>List available topics</td></tr>\n",
       "                <tr><td><code>%dstutor reset</code></td><td>Reset current lesson</td></tr>\n",
       "                <tr><td><code>%dstutor goto &lt;id&gt;</code></td><td>Jump to specific lesson</td></tr>\n",
       "                <tr><td><code>%dstutor config</code></td><td>Show configuration</td></tr>\n",
       "                <tr><td><code>%dstutor help</code></td><td>Show this help message</td></tr>\n",
       "            </table>\n",
       "        </div>\n",
       "        "
      ],
      "text/plain": [
       "<IPython.core.display.HTML object>"
      ]
     },
     "metadata": {},
     "output_type": "display_data"
    }
   ],
   "source": [
    "%dstutor help"
   ]
  },
  {
   "cell_type": "markdown",
   "metadata": {},
   "source": [
    "## Tips for Success\n",
    "\n",
    "1. **Try it yourself first** - Don't jump to hints immediately\n",
    "2. **Experiment** - Modify examples to see what happens\n",
    "3. **Practice daily** - Even 15-20 minutes helps\n",
    "4. **Take notes** - Add your own markdown cells\n",
    "5. **Review regularly** - Go back to reinforce concepts\n",
    "\n",
    "---\n",
    "\n",
    "## Ready to Learn?\n",
    "\n",
    "You now know the basics! Here's your learning path:\n",
    "\n",
    "### Level 1: Foundations\n",
    "- ✅ **NumPy Mastery** - Array manipulation (Start here!)\n",
    "- **Pandas Deep Dive** - Data manipulation\n",
    "- **Matplotlib & Seaborn** - Data visualization\n",
    "\n",
    "### Level 2: ML Pipeline\n",
    "- **EDA** - Exploratory Data Analysis\n",
    "- **Preprocessing** - Data cleaning\n",
    "- **Scikit-Learn** - Machine learning models\n",
    "\n",
    "### Level 3: Advanced\n",
    "- **Deep Learning** - Keras & PyTorch\n",
    "- **Model Interpretation** - SHAP, LIME\n",
    "- **Specialized Topics** - Time series, NLP, CV\n",
    "\n",
    "---\n",
    "\n",
    "## Let's Begin!\n",
    "\n",
    "Start your Data Science journey right now:"
   ]
  },
  {
   "cell_type": "code",
   "execution_count": 17,
   "metadata": {},
   "outputs": [
    {
     "data": {
      "text/markdown": [
       "# Pandas - Lesson 1\n",
       "\n",
       "Learn Pandas data manipulation."
      ],
      "text/plain": [
       "<IPython.core.display.Markdown object>"
      ]
     },
     "metadata": {},
     "output_type": "display_data"
    },
    {
     "data": {
      "text/markdown": [
       "Pandas concepts here..."
      ],
      "text/plain": [
       "<IPython.core.display.Markdown object>"
      ]
     },
     "metadata": {},
     "output_type": "display_data"
    },
    {
     "data": {
      "text/markdown": [
       "\n",
       "---\n",
       "\n",
       "## ✏️ Exercise\n",
       "\n",
       "Complete the Pandas exercise\n",
       "\n",
       "**Setup Code** (Run this first):\n"
      ],
      "text/plain": [
       "<IPython.core.display.Markdown object>"
      ]
     },
     "metadata": {},
     "output_type": "display_data"
    },
    {
     "data": {
      "text/markdown": [
       "```python\n",
       "import pandas as pd\n",
       "```"
      ],
      "text/plain": [
       "<IPython.core.display.Markdown object>"
      ]
     },
     "metadata": {},
     "output_type": "display_data"
    },
    {
     "data": {
      "text/markdown": [
       "\n",
       "**Your Solution:**\n",
       "\n",
       "```python\\n# Your code here\\n```\n",
       "\n",
       "---\n",
       "💡 **Tip:** Use `%dstutor hint` if you need help!\n"
      ],
      "text/plain": [
       "<IPython.core.display.Markdown object>"
      ]
     },
     "metadata": {},
     "output_type": "display_data"
    },
    {
     "data": {
      "text/html": [
       "\n",
       "        <div style=\"padding: 20px; background: linear-gradient(135deg, #667eea 0%, #764ba2 100%);\n",
       "                    color: white; border-radius: 10px; margin: 15px 0; box-shadow: 0 3px 5px rgba(0,0,0,0.1);\">\n",
       "            <h3 style=\"margin: 0 0 8px 0;\">📚 Pandas - Pandas Lesson 1</h3>\n",
       "            <p style=\"margin: 5px 0; opacity: 0.9;\">\n",
       "                Lesson 1 of 5 •\n",
       "                Level: Beginner •\n",
       "                Duration: 15 min\n",
       "            </p>\n",
       "            <div style=\"background: rgba(255,255,255,0.2); height: 8px; border-radius: 4px; margin-top: 12px; overflow: hidden;\">\n",
       "                <div style=\"background: white; height: 100%; width: 20.0%; border-radius: 4px; transition: width 0.3s;\"></div>\n",
       "            </div>\n",
       "        </div>\n",
       "        "
      ],
      "text/plain": [
       "<IPython.core.display.HTML object>"
      ]
     },
     "metadata": {},
     "output_type": "display_data"
    },
    {
     "data": {
      "application/vnd.jupyter.widget-view+json": {
       "model_id": "625e89c0b8fb4e3892ddc7163cac6c6e",
       "version_major": 2,
       "version_minor": 0
      },
      "text/plain": [
       "HBox(children=(Button(button_style='info', description='◄ Previous', layout=Layout(width='auto'), style=Button…"
      ]
     },
     "metadata": {},
     "output_type": "display_data"
    },
    {
     "data": {
      "application/vnd.jupyter.widget-view+json": {
       "model_id": "3c49ab5a3b234c5b883e5b791a27cac1",
       "version_major": 2,
       "version_minor": 0
      },
      "text/plain": [
       "Output()"
      ]
     },
     "metadata": {},
     "output_type": "display_data"
    }
   ],
   "source": [
    "# Start learning!\n",
    "%dstutor start pandas"
   ]
  },
  {
   "cell_type": "markdown",
   "metadata": {},
   "source": [
    "---\n",
    "\n",
    "**Happy Learning! 🎓📊🤖**\n",
    "\n",
    "Remember: The journey of a thousand miles begins with a single step. Your Data Science journey starts here!"
   ]
  },
  {
   "cell_type": "code",
   "execution_count": null,
   "metadata": {},
   "outputs": [],
   "source": []
  },
  {
   "cell_type": "code",
   "execution_count": null,
   "metadata": {},
   "outputs": [],
   "source": []
  }
 ],
 "metadata": {
  "kernelspec": {
   "display_name": "Python 3 (ipykernel)",
   "language": "python",
   "name": "python3"
  },
  "language_info": {
   "codemirror_mode": {
    "name": "ipython",
    "version": 3
   },
   "file_extension": ".py",
   "mimetype": "text/x-python",
   "name": "python",
   "nbconvert_exporter": "python",
   "pygments_lexer": "ipython3",
   "version": "3.12.3"
  }
 },
 "nbformat": 4,
 "nbformat_minor": 4
}
